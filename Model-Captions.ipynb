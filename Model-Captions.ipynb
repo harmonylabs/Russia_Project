{
 "cells": [
  {
   "cell_type": "code",
   "execution_count": 5,
   "metadata": {
    "collapsed": true
   },
   "outputs": [],
   "source": [
    "import sys\n",
    "sys.path.insert(0, '/Users/bairdhowland/Topic_Modelling')\n",
    "from lda import LDA\n",
    "import datetime\n",
    "import csv\n",
    "import pickle"
   ]
  },
  {
   "cell_type": "code",
   "execution_count": 2,
   "metadata": {
    "collapsed": true
   },
   "outputs": [],
   "source": [
    "def fix_nulls(s):\n",
    "    for line in s:\n",
    "        yield line.replace('\\0', ' ')\n",
    "        \n",
    "def str_to_datetime(s):\n",
    "    s = s.replace(' ','-').replace(':','-')\n",
    "    return datetime.datetime(*[int(x) for x in s.split('-')])\n",
    "\n",
    "def read_segments(f, min_duration=0, datetime_window=[]):\n",
    "    segments = []\n",
    "    csv_f = fix_nulls(open(f,'r'))\n",
    "    for i,row in enumerate(csv.reader(csv_f)):\n",
    "        if i==0: continue\n",
    "        if int(row[6]) < min_duration:\n",
    "            continue\n",
    "        if datetime_window and datetime_window[0] < str_to_datetime(row[1]) <= datetime_window[1]:\n",
    "            segments.append(row[7])\n",
    "    csv_f.close()\n",
    "    return segments\n",
    "\n"
   ]
  },
  {
   "cell_type": "code",
   "execution_count": 3,
   "metadata": {
    "collapsed": true
   },
   "outputs": [],
   "source": [
    "data_dir = \"Transcript_Segments\"\n",
    "cnn_f = data_dir + '/CNN_full_segments.csv'\n",
    "msnbc_f = data_dir + '/MSNBC_full_segments.csv'\n",
    "fox_f = data_dir + '/FOXNEWS_full_segments.csv'"
   ]
  },
  {
   "cell_type": "markdown",
   "metadata": {},
   "source": [
    "# Slice time into three-month intervals, learn model for each slice"
   ]
  },
  {
   "cell_type": "code",
   "execution_count": 7,
   "metadata": {
    "scrolled": true
   },
   "outputs": [
    {
     "name": "stdout",
     "output_type": "stream",
     "text": [
      "[datetime.datetime(2016, 11, 22, 0, 0), datetime.datetime(2017, 2, 20, 0, 0)]\n",
      "Computing document-frequency dictionary; 3262 documents\n",
      "100.0% completee\n",
      "33726 total seen words\n",
      "Training Model. 3262 documents. Vocabulary Size = 6150\n",
      "Training Model. 3262 documents. Vocabulary Size = 6150\n",
      "[datetime.datetime(2017, 2, 20, 0, 0), datetime.datetime(2017, 5, 21, 0, 0)]\n",
      "Computing document-frequency dictionary; 3066 documents\n",
      "100.0% completee\n",
      "32632 total seen words\n",
      "Training Model. 3066 documents. Vocabulary Size = 6008\n",
      "Training Model. 3066 documents. Vocabulary Size = 6008\n",
      "[datetime.datetime(2017, 5, 21, 0, 0), datetime.datetime(2017, 8, 19, 0, 0)]\n",
      "Computing document-frequency dictionary; 3235 documents\n",
      "100.0% completee\n",
      "32060 total seen words\n",
      "Training Model. 3235 documents. Vocabulary Size = 6177\n",
      "Training Model. 3235 documents. Vocabulary Size = 6177\n",
      "[datetime.datetime(2017, 8, 19, 0, 0), datetime.datetime(2017, 11, 17, 0, 0)]\n",
      "Computing document-frequency dictionary; 3274 documents\n",
      "100.0% completee\n",
      "33722 total seen words\n",
      "Training Model. 3274 documents. Vocabulary Size = 6357\n",
      "Training Model. 3274 documents. Vocabulary Size = 6357\n",
      "[datetime.datetime(2017, 11, 17, 0, 0), datetime.datetime(2018, 2, 15, 0, 0)]\n",
      "Computing document-frequency dictionary; 1960 documents\n",
      "100.0% completee\n",
      "25558 total seen words\n",
      "Training Model. 1960 documents. Vocabulary Size = 4857\n",
      "Training Model. 1960 documents. Vocabulary Size = 4857\n",
      "[datetime.datetime(2018, 2, 15, 0, 0), datetime.datetime(2018, 5, 16, 0, 0)]\n",
      "Computing document-frequency dictionary; 2939 documents\n",
      "100.0% completee\n",
      "32887 total seen words\n",
      "Training Model. 2939 documents. Vocabulary Size = 6233\n",
      "Training Model. 2939 documents. Vocabulary Size = 6233\n",
      "[datetime.datetime(2018, 5, 16, 0, 0), datetime.datetime(2018, 8, 14, 0, 0)]\n",
      "Computing document-frequency dictionary; 2853 documents\n",
      "100.0% completee\n",
      "34170 total seen words\n",
      "Training Model. 2853 documents. Vocabulary Size = 6212\n",
      "Training Model. 2853 documents. Vocabulary Size = 6212\n",
      "[datetime.datetime(2018, 8, 14, 0, 0), datetime.datetime(2018, 11, 12, 0, 0)]\n",
      "Computing document-frequency dictionary; 3020 documents\n",
      "100.0% completee\n",
      "31602 total seen words\n",
      "Training Model. 3020 documents. Vocabulary Size = 6304\n",
      "Training Model. 3020 documents. Vocabulary Size = 6304\n",
      "[datetime.datetime(2018, 11, 12, 0, 0), datetime.datetime(2019, 2, 10, 0, 0)]\n",
      "Computing document-frequency dictionary; 1556 documents\n",
      "100.0% completee\n",
      "22170 total seen words\n",
      "Training Model. 1556 documents. Vocabulary Size = 4431\n",
      "Training Model. 1556 documents. Vocabulary Size = 4431\n"
     ]
    }
   ],
   "source": [
    "dt = datetime.datetime(2016,11,22)\n",
    "while dt < datetime.datetime(2019,1,1):\n",
    "    window = [dt, dt + datetime.timedelta(days=90)]\n",
    "    print(window)\n",
    "    segments = (read_segments(cnn_f, min_duration=60, datetime_window=window) + \n",
    "                read_segments(fox_f, min_duration=60, datetime_window=window) + \n",
    "                read_segments(msnbc_f, min_duration=60, datetime_window=window))\n",
    "    lda = LDA(segments)\n",
    "    output_dir = \"Topic-Modelling/models/\" + str(dt).split()[0]\n",
    "    for k in [10,20]:\n",
    "        model = lda.train_lda(min_df=10, max_df=.6, n_topics=k, chunksize=50)\n",
    "        lda.save_learned_topics(model, output_dir + '/topics_k={}.csv'.format(k), n_words=40)\n",
    "        model.save(output_dir + '/model-gensim_k={}'.format(k))\n",
    "    pickle.dump(lda.term_to_index, open(output_dir + '/term_to_index.p','wb'))\n",
    "    pickle.dump(lda.index_to_term, open(output_dir + '/index_to_term.p','wb'))\n",
    "    dt = dt + datetime.timedelta(days=90)"
   ]
  },
  {
   "cell_type": "code",
   "execution_count": 11,
   "metadata": {},
   "outputs": [
    {
     "data": {
      "text/plain": [
       "64"
      ]
     },
     "execution_count": 11,
     "metadata": {},
     "output_type": "execute_result"
    }
   ],
   "source": [
    "8*8"
   ]
  },
  {
   "cell_type": "code",
   "execution_count": null,
   "metadata": {
    "collapsed": true
   },
   "outputs": [],
   "source": []
  }
 ],
 "metadata": {
  "kernelspec": {
   "display_name": "Python 3",
   "language": "python",
   "name": "python3"
  },
  "language_info": {
   "codemirror_mode": {
    "name": "ipython",
    "version": 3
   },
   "file_extension": ".py",
   "mimetype": "text/x-python",
   "name": "python",
   "nbconvert_exporter": "python",
   "pygments_lexer": "ipython3",
   "version": "3.7.3"
  }
 },
 "nbformat": 4,
 "nbformat_minor": 2
}

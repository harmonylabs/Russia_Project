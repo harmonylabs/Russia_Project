{
 "cells": [
  {
   "cell_type": "code",
   "execution_count": 1,
   "metadata": {},
   "outputs": [],
   "source": [
    "%matplotlib inline\n",
    "import matplotlib.pyplot as plt\n",
    "import json\n",
    "import random\n",
    "import csv\n",
    "import re\n",
    "import datetime"
   ]
  },
  {
   "cell_type": "code",
   "execution_count": 2,
   "metadata": {},
   "outputs": [],
   "source": [
    "TRUMP_CAMGAIN_BEGINS = datetime.datetime(2015,6,16)"
   ]
  },
  {
   "cell_type": "code",
   "execution_count": 3,
   "metadata": {},
   "outputs": [],
   "source": [
    "data_dir = 'Captions'"
   ]
  },
  {
   "cell_type": "code",
   "execution_count": 4,
   "metadata": {},
   "outputs": [],
   "source": [
    "def str_to_datetime(s):\n",
    "    s = s.replace(' ','-').replace(':','-')\n",
    "    return datetime.datetime(*[int(x) for x in s.split('-')])"
   ]
  },
  {
   "cell_type": "code",
   "execution_count": 5,
   "metadata": {},
   "outputs": [],
   "source": [
    "def combine_transcript_files(transcripts_list, constraints):\n",
    "    final_transcripts = []\n",
    "    for i,transcripts in enumerate(transcripts_list):\n",
    "        final_transcripts += [x for x in transcripts if constraints[i](x)]\n",
    "    return final_transcripts"
   ]
  },
  {
   "cell_type": "code",
   "execution_count": 6,
   "metadata": {},
   "outputs": [],
   "source": [
    "#    transcripts_old = [show_info for show_info in transcripts_old if \n",
    "#                       c>str_to_datetime(show_info['start_localtime'].split()[0])>=TRUMP_CAMGAIN_BEGINS]\n",
    "def get_shows(fs, constraints=[]):\n",
    "    if constraints:\n",
    "        if len(constraints)!=len(fs):\n",
    "            print('wrong number of constraints')\n",
    "            return\n",
    "    else:\n",
    "        constraints= [lambda x: True] * len(fs)\n",
    "    transcripts_list = []\n",
    "    for f in fs:\n",
    "        with open(data_dir + '/' + f) as json_f:\n",
    "            transcripts_list.append(json.load(json_f))\n",
    "    return combine_transcript_files(transcripts_list, constraints)\n",
    "\n",
    "#CNN\n",
    "cnn_fs = ['processed_CNN_april_september_2019.json']#['processed_CNN_2019.json', 'processed_CNN_p2_2019.json'] # processed_CNN_2018.json, processed_cnn_2014_feb26_IDS.json            \n",
    "msnbc_fs = []#['processed_MSNBC_2019.json', 'processed_MSNBC_p2_2019.json'] # processed_MSNBC_2018.json, processed_msnbc_2014_feb16_IDS.json\n",
    "foxnews_fs = ['processed_CNN_april_september_2019.json']#['processed_FOXNEWS_2019.json', 'processed_FOXNEWS_p2_2019.json'] #processed_FOXNEWS_2018.json, processed_foxn_2014_feb26_IDS.json"
   ]
  },
  {
   "cell_type": "code",
   "execution_count": 16,
   "metadata": {
    "collapsed": true
   },
   "outputs": [],
   "source": [
    "CNN_shows_2018jan = get_shows(cnn_fs)\n",
    "FOX_shows_2018jan = get_shows(foxnews_fs)\n",
    "MSNBC_shows_2018jan = get_shows(msnbc_fs)"
   ]
  },
  {
   "cell_type": "code",
   "execution_count": 8,
   "metadata": {},
   "outputs": [
    {
     "data": {
      "text/plain": [
       "712"
      ]
     },
     "execution_count": 8,
     "metadata": {},
     "output_type": "execute_result"
    }
   ],
   "source": [
    "len(MSNBC_shows_2019)"
   ]
  },
  {
   "cell_type": "code",
   "execution_count": 9,
   "metadata": {
    "collapsed": true
   },
   "outputs": [],
   "source": [
    "def count_shows(show_data, min_shows=0):\n",
    "    program_counts = {}\n",
    "    for show_info in show_data:\n",
    "        program = show_info['program']\n",
    "        program_counts[program] = program_counts.get(program,0) + 1\n",
    "    for show,count in sorted(program_counts.items(), key=lambda x: -x[1]):\n",
    "        if count>min_shows:\n",
    "            print(count, show)"
   ]
  },
  {
   "cell_type": "code",
   "execution_count": 10,
   "metadata": {
    "collapsed": true
   },
   "outputs": [],
   "source": [
    "def print_sample(show_data, date=None, program_contains='', i=None):\n",
    "    # first, constrain possible random shows by date and program\n",
    "    shows_subset = show_data\n",
    "    if date:\n",
    "        shows_subset = [show_info for show_info in shows_subset if show_info['start_localtime'].split()[0]==date]\n",
    "    if program_contains:\n",
    "        shows_subset = [show_info for show_info in shows_subset if program_contains in show_info['program']]\n",
    "    i = random.randrange(0,len(shows_subset)) if not i else i\n",
    "    show_info = shows_subset[i]\n",
    "    print(len(shows_subset), 'matches')\n",
    "    print(show_info['program'], show_info['start_localtime'], show_info['start_time'], show_info['stop_time'])\n",
    "    print()\n",
    "    cc_snippets = show_info['cc'].split('\\n')\n",
    "    timestamps = [int(x) for x in show_info['times']]\n",
    "    cc_lines = show_info['cc'].split('>>')\n",
    "    ts_pointer = 0\n",
    "    for line in cc_lines:\n",
    "        lb = line.count('\\n')\n",
    "        print(timestamps[ts_pointer], '>>' + line.replace('\\n',' '))\n",
    "        ts_pointer += lb\n"
   ]
  },
  {
   "cell_type": "code",
   "execution_count": 11,
   "metadata": {
    "collapsed": true
   },
   "outputs": [],
   "source": [
    "def day_name(i):\n",
    "    return {\n",
    "        0:'Monday',\n",
    "        1:'Tuesday',\n",
    "        2:'Wednesday',\n",
    "        3:'Thursday',\n",
    "        4:'Friday',\n",
    "        5:'Saturday',\n",
    "        6:'Sunday'\n",
    "    }[i]\n",
    "def build_primetime_lineup(show_data, out_f):\n",
    "    lineup = {}\n",
    "    for show_info in show_data:\n",
    "        day, time = show_info['start_localtime'].split()\n",
    "        if day not in lineup:\n",
    "            lineup[day] = {}\n",
    "        # if in primetime (west coast air)\n",
    "        t_h = int(time.split(':')[0])+3-12\n",
    "        if 10 >= t_h >= 5:\n",
    "            h = round((str_to_datetime(show_info['stop_time']) - str_to_datetime(show_info['start_time'])).seconds/60/60,1)\n",
    "            suffix = ' ({} hours)'.format(int(h)) if h>1.25 else ''\n",
    "            lineup[day][t_h] = show_info['program'] + suffix\n",
    "    rows = [[\"Date\", \"Day\", \"5p\", \"6p\", \"7p\", \"8p\", \"9p\", \"10p\"]]\n",
    "    for day in sorted(lineup):\n",
    "        shows = lineup[day]\n",
    "        rows.append([day, day_name(str_to_datetime(day).weekday()), \n",
    "                     shows.get(5,''), shows.get(6,''), shows.get(7,''), shows.get(8,''), \n",
    "                     shows.get(9,''), shows.get(10,'')])\n",
    "    with open(out_f,'w') as csv_f:\n",
    "        csv.writer(csv_f).writerows(rows)"
   ]
  },
  {
   "cell_type": "code",
   "execution_count": 12,
   "metadata": {
    "collapsed": true
   },
   "outputs": [],
   "source": [
    "commercial_match = re.compile('(?<![0-9])[a-z]{2,}\\W(?<!:)|(?<![0-9])[a-z]{2,}$')\n",
    "def is_commercial(s):\n",
    "    return re.search(commercial_match, s.replace(' ',''))"
   ]
  },
  {
   "cell_type": "code",
   "execution_count": 13,
   "metadata": {
    "collapsed": true
   },
   "outputs": [],
   "source": [
    "def show_lineup(show_data, date):\n",
    "    shows_on_date = [show_info for show_info in show_data if show_info['start_localtime'].split()[0]==date]\n",
    "    for show_info in sorted(shows_on_date, key=lambda x: x['start_localtime']):\n",
    "        print(show_info['start_localtime'].split()[1], show_info['program'])"
   ]
  },
  {
   "cell_type": "code",
   "execution_count": 14,
   "metadata": {
    "collapsed": true
   },
   "outputs": [],
   "source": [
    "def segment(show_info):\n",
    "    ts_pointer = 0\n",
    "    timestamps = [int(x) for x in show_info['times']]\n",
    "    if len(timestamps)==show_info['cc'].count('\\n'):\n",
    "        timestamps = timestamps + [timestamps[-1]]\n",
    "    \n",
    "    segments = []\n",
    "    current_segment = ''\n",
    "    segment_start = timestamps[ts_pointer]\n",
    "    \n",
    "    snippets = []\n",
    "    clock = 0\n",
    "    snippet_time = 60*4\n",
    "    snippet = ''\n",
    "    snippet_start = timestamps[ts_pointer]\n",
    "    \n",
    "    commercial_break = False\n",
    "    for chunk in show_info['cc'].split('>>'):\n",
    "        chunk_time = timestamps[ts_pointer + chunk.count('\\n')] - timestamps[ts_pointer]\n",
    "        # if there is a tripple carrot\n",
    "        if chunk.startswith('>'):\n",
    "            if current_segment:\n",
    "                snippets.append((snippet, snippet_start, timestamps[ts_pointer], len(segments)))\n",
    "                snippet=''; snippet_start = timestamps[ts_pointer]; clock = 0\n",
    "                segments.append((current_segment, segment_start, timestamps[ts_pointer]))\n",
    "                current_segment = ''; segment_start = timestamps[ts_pointer]\n",
    "            chunk = chunk[1:]\n",
    "        if current_segment:\n",
    "            current_segment += '>> '\n",
    "            snippet += '>> '\n",
    "        for i,line in enumerate(chunk.split('\\n')):\n",
    "            if is_commercial(line):\n",
    "                if current_segment:\n",
    "                    snippets.append((snippet, snippet_start, timestamps[ts_pointer+i], len(segments)))\n",
    "                    snippet=''; clock = 0\n",
    "                    segments.append((current_segment, segment_start, timestamps[ts_pointer+i]))\n",
    "                    current_segment = ''\n",
    "                commercial_break = True\n",
    "                break\n",
    "            current_segment += line.strip() + ' '\n",
    "            snippet += line.strip() + ' '\n",
    "        ts_pointer += chunk.count('\\n')\n",
    "        if commercial_break:\n",
    "            segment_start = timestamps[ts_pointer]\n",
    "            snippet_start = timestamps[ts_pointer]\n",
    "            commercial_break = False\n",
    "        else:\n",
    "            clock += chunk_time\n",
    "        if clock > snippet_time:\n",
    "            snippets.append((snippet, snippet_start, timestamps[ts_pointer], len(segments)))\n",
    "            snippet = ''; snippet_start = timestamps[ts_pointer]; clock = 0\n",
    "    \n",
    "    return snippets, segments"
   ]
  },
  {
   "cell_type": "code",
   "execution_count": null,
   "metadata": {
    "collapsed": true
   },
   "outputs": [],
   "source": []
  },
  {
   "cell_type": "code",
   "execution_count": null,
   "metadata": {
    "collapsed": true
   },
   "outputs": [],
   "source": []
  },
  {
   "cell_type": "code",
   "execution_count": 24,
   "metadata": {},
   "outputs": [
    {
     "name": "stdout",
     "output_type": "stream",
     "text": [
      "2637 matches\n",
      "State of the Union With Jake Tapper 2019-01-13 09:00:00 2019-01-13 17:00:00 2019-01-13 18:00:59\n",
      "\n",
      "6 >>At Comcast, it's my job to develop, apps and tools that simplify your experience. My name is Mike, I'm in product development at Comcast. We're working to make things simple, easy and awesome. \n",
      "36 >>> INVESTIGATING TRUMP. A NEW REPORT SAYS THE FBI INVESTIGATED THE PRESIDENT FEARING HE COULD BE WORKING FOR RUSSIA. AS WE ALSO LEARN PRESIDENT TRUMP REPORTEDLY CONCEALED DETAILS OF HIS MEETINGS WITH VLADIMIR PUTIN. THE WHITE HOUSE CALLS THE REPORTS ABSURD. WE'LL ASK THE TOP DEMOCRAT ON THE SENATE INTELLIGENCE COMMITTEE, SENATOR MARK WARNER, NEXT. \n",
      "57 >>> PLUS, HISTORIC SHUTDOWN. DAY 23 OF THE LONGEST GOVERNMENT SHUTDOWN IN AMERICAN HISTORY. AND NEITHER SIDE IS BUDGING ON THE WALL. THE PRESIDENT SAYS IF DEMOCRATS DON'T ACT, HE WILL. \n",
      "67 >> I WILL DECLARE A NATIONAL EMERGENCY. \n",
      "72 >> THE CHAIRMAN OF THE HOMELAND SECURITY COMMITTEE, REPUBLICAN SENATOR RON JOHNSON, RESPONDS IN MOMENTS. \n",
      "78 >>> AND STEP RIGHT UP. MORE DEMOCRATS THROWING THEIR HATS INTO THE PRESIDENTIAL RING. \n",
      "82 >> I AM A CANDIDATE. \n",
      "83 >> I HAVE DECIDED TO RUN. \n",
      "84 >> WHO CAN WIN THE PROGRESSIVE WING OF THE PARTY? NEW YORK CITY MAYOR BILL de BLASIO WILL BE HERE. \n",
      "98 >>> HELLO. I'M JAKE TAPPER IN NEW YORK WHERE THE STATE OF OUR UNION IS ALARMED. TWO MAJOR BREAKING STORIES ABOUT THE RUSSIA INVESTIGATION ARE CONSUMING ALL THE OXYGEN IN THE POLITICAL WORLD, EVEN AMIDST THE LONGEST GOVERNMENT SHUTDOWN IN AMERICAN HISTORY. OVERNIGHT \"THE WASHINGTON POST\" REPORTING THAT PRESIDENT TRUMP HAS GONE TO QUOTE, EXTRAORDINARY LENGTHS TO KEEP SPECIFICS ABILITY HIS MEETINGS WITH RUSSIAN PRESIDENT VLADIMIR PUTIN SECRET. EVEN KEEPING THEM FROM TOP MEMBERS OF HIS OWN ADMINISTRATION. ACCORDING TO THE POST, THE PRESIDENT'S EFFORTS INCLUDED AT LEAST ON ONE OCCASION CONFISCATING THE NOTES FROM HIS INTERPRETER. WHITE HOUSE PRESS SECRETARY SARAH SANDERS CALLED THE QUOTE OUTRAGEOUSLY INACCURATE, THOUGH, AND SHE DID NOT OFFER ONE SPECIFIC AS TO WHAT SHE WAS CLAIMING WAS NOT ACCURATE. THIS REPORTING COMES ON TOP OF ANOTHER SHOCKING HEADLINE FIRST REPORTED BY \"THE NEW YORK TIMES\" THAT THE FBI WAS SO CONCERNED ABOUT PRESIDENT TRUMP'S ACTIONS AROUND THE TIME OF FBI DIRECTOR JAMES COMEY'S FIRING, IT OPENED AN INVESTIGATION INTO WHETHER PRESIDENT TRUMP WAS WORKING FOR RUSSIA. AGAINST U.S. INTERESTS. TAKE A LISTEN TO HOW PRESIDENT TRUMP RESPONDED SATURDAY NIGHT WHEN ASKED DIRECTLY IF HE HAS EVER WORKED FOR RUSSIA. \n",
      "168 >> I THINK IT'S THE MOST INSULTING THING I'VE EVER BEEN ASKED. I THINK IT'S THE MOST INSULTING ARTICLE I'VE EVER HAD WRITTEN. \n",
      "173 >> THE PRESIDENT DID NOT DIRECTLY ANSWER THE QUESTION. JOINING ME NOW, DEMOCRATIC SENATOR MARK WARNER. THE VICE CHAIRMAN OF THE SENATE INTELLIGENCE COMMITTEE. SENATOR, I KNOW YOU'RE VERY EAGER TO TALK ABOUT THE GOVERNMENT SHUTDOWN. YOU HAVE TENS OF THOUSANDS OF CONSTITUENTS DIRECTLY AFFECTED, BUT I WANT TO START ON THIS FBI COUNTERINTELLIGENCE INVESTIGATION INTO THE PRESIDENT TO SEE WHETHER OR NOT HE'D BEEN WORKING ON BEHALF OF THE RUSSIANS. HE SLAMMED THE IDEA AS THE MOST INSULTING THING HE'S EVER BEEN ASKED. ON ITS FACE, IT'S A STUNNING TURN OF EVENTS. DO YOU THINK THE PRESIDENT OF THE UNITED STATES EVER WORKED ON BEHALF OF THE RUSSIANS AGAINST AMERICAN INTERESTS? \n",
      "212 >> WELL, JAKE, THAT'S THE DEFINING QUESTION OF OUR INVESTIGATION AND THE MUELLER INVESTIGATION. WAS THERE COLLUSION? I'M NOT GOING TO TALK ABOUT WHAT WE MAY HAVE BEEN BRIEFED IN THE GANG OF EIGHT WHEN THESE INVESTIGATIONS OPENED. BUT I DO THINK IT'S CURIOUS THAT THROUGHOUT THAT WHOLE SUMMER WHEN THESE INVESTIGATIONS STARTED, YOU HAD VLADIMIR PUTIN POLICIES ALMOST BEING PARROTED BY DONALD TRUMP. YOU HAD TRUMP SAY ONLY NICE THINGS ABOUT PUTIN. HE NEVER SPOKE ILL ABOUT RUSSIA. THE REPUBLICAN CAMPAIGN DOCTRINES SOFTENED ON RUSSIA. AND DECREASED THEIR WILLINGNESS TO DEFEND UKRAINE. THERE WAS A SERIES OF OUTSIDE ACTIONS. WE ALL REMEMBER WHEN TRUMP AND HIS BLUSTER BASICALLY SAID TO THE RUSSIANS, IF YOU'VE GOT MORE E-MAILS, BRING THEM ON. THESE ARE NOT ACTIONS OF A TRADITIONAL PRESIDENT FOR THE UNITED STATES. \n",
      "270 >> ALL RIGHT, BUT LET ME -- LET ME PUSH BACK FOR A MINUTE. OKAY. GO AHEAD. FINISH. \n",
      "280 >> WELL, I JUST THINK WE NEED TO PUT THIS ALL THREE PIECES OF WHAT HAPPENED IN CONTEXT OF LAST WEEK. THE STORY OF THE LEVEL OF CONCERN THAT THE FBI HAD, AGAIN, IF THE STORY IS CORRECT, IN A SENSE, OPEN THEIR OWN INVESTIGATION, WHETHER DONALD TRUMP WAS COMPROMISED. WE HAVE ON TOP OF THAT, THE FACT OF THE MOST RECENT STORY THAT TRUMP HAD A SERIES OF MEETINGS WITH PUTIN, WHICH HE BROKE ALL PROTOCOL, WHERE NORMALLY THESE MEETINGS YOU BRING IN TOP AIDES SO THAT THERE IS SOME RECORD. SO YOU CAN HAVE THE APPROPRIATE FOLLOW-UP. IN THESE MEETINGS HE BROUGHT IN TILLERSON ONCE BUT THE OTHER MEETINGS WERE SIMPLY WITH THE INTERPRETER. AND THE INTERPRETER WAS THEN RESTRICTED ON, IN A SENSE, SHARING THAT INFORMATION. TO THE POINT THAT WE STILL DON'T KNOW THE AMERICAN GOVERNMENT DOES NOT KNOW WHAT WAS DISCUSSED BETWEEN TRUMP AND VLADIMIR PUTIN IN THAT, FRANKLY, PATHETIC, EMBARRASSING ENCOUNTER WHERE HE WAS KOWTOWING TO VLADIMIR PUTIN IN HELSINKI. IT WAS ONE OF THE WORST DAYS IN TERMS OF AMERICA'S LACK OF LEADERSHIP AGAINST A DICTATOR LIKE PUTIN AND FINALLY, I KNOW PEOPLE HAVE TO STRETCH THEIR MEMORY, BUT WE HAVE TO REMEMBER ALL THE WAY BACK AT THE BEGINNING OF THE WEEK WHEN THE STORIES CAME OUT THAT TRUMP'S CAMPAIGN CHAIRMAN WAS SHARING PROPRIETARY CAMPAIGN DATA WITH A KNOWN RUSSIAN AGENT, MR. KILIMNIK WHO HAS TIES TO PUTIN AND KILIMNIK WHO HAS TIES TO THE RUSSIAN OLIGARCH DERIPASKA. THE SAME OLIGARCH THE TRUMP ADMINISTRATION NOW WANTS TO TRY TO REMOVE THE SANCTIONS ON. I THINK THIS WEEK, I HAVE BEEN WAITING FOR A LONG TIME FOR MUELLER TO KIND OF MOVE FORWARD. I THINK WE'RE SEEING THESE INDEPENDENT ACTIONS EVEN INDEPENDENT OF MUELLER WHICH IS THE LEADUP AND SOME OF THE RATIONALE ABOUT WHY THIS INVESTIGATION STARTED AND WHY SO MANY AMERICANS, LIKE MYSELF, HAVE BEEN CONCERNED FOR SO LONG. \n",
      "410 >> SO SENATOR, JUST VERY BRIEFLY, YOU JUST SAID A LOT. YOU SEEM TO CONFIRM THAT AS A MEMBER OF THE GANG OF EIGHT, WHICH IS CONGRESSIONAL LEADERSHIP AND THE LEADERSHIP OF THE HOUSE AND SENATE INTELLIGENCE COMMITTEES YOU JUST SEEMED TO CONFIRM THAT YOU HAD BEEN BRIEFED WHEN THIS COUNTERINTELLIGENCE INVESTIGATION WAS LAUNCHED -- \n",
      "430 >> JAKE, I'M NOT -- I'M NOT GOING TO COMMENT ON ANY OF THE CONTENTS OF -- \n",
      "435 >> I'M NOT ASKING FOR THE CONTENT BUT YOU SEEMED TO CONFIRM THAT IT HAPPENED, THOUGH. THAT THERE WAS -- YOU WERE ADVISED AS A MEMBER OF THE GANG OF EIGHT? \n",
      "445 >> WHAT I WAS SAYING WAS SUBSEQUENT TO THAT BRIEFING, THERE WAS OF ENOUGH CONCERN THAT THE SENATE INTELLIGENCE COMMITTEE, IN A BIPARTISAN FASHION, THE HOUSE INTELLIGENCE COMMITTEE AND A SLIGHTLY LESS BIPARTISAN FASHION, LAUNCHED INVESTIGATIONS. OUR INVESTIGATION IS ALMOST -- IT'S NOT QUITE TWO YEARS IN, BUT WE HAVE LITERALLY SPOKEN TO HUNDREDS OF WITNESSES. WE MAY HAVE SPOKEN TO EVEN MORE WITNESSES THAN MUELLER. AND WE HAVE A VERY IMPORTANT STORY TO TELL TO THE AMERICAN PUBLIC. \n",
      "478 >> SO YOU JUST LAID OUT A WHOLE LIST OF WAYS THAT PRESIDENT TRUMP IN YOUR VIEW WAS PARROTING WHAT PUTIN WOULD WANT HIM TO DO. THE PRESIDENT ADDED YESTERDAY HE HAS TAKEN ROUGH ACTIONS AGAINST RUSSIA. SWEEPING SANCTIONS ON DOZENS OF RUSSIAN OFFICIALS AND OLIGARCHS. SELLING DEFENSIVE WEAPONS TO THE UKRAINIANS. HE DID DO THAT. HOW DO YOU SQUARE IT IF YOU THINK HE'S WORKING ON BEHALF OF RUSSIA OR THROWING OUT THE POSSIBILITY. WHY WOULD HE SEND DEFENSIVE WEAPONS TO THE UKRAINIANS? WHY WOULD HE SIGN SANCTIONS AGAINST RUSSIANS? \n",
      "512 >> REMEMBER, JAKE, THAT THE GENERATION OF ALMOST ALL OF THESE SANCTIONS DID NOT ARISE FROM THE WHITE HOUSE. THEY AROSE BECAUSE OF HUGE CONCERN, BIPARTISAN CONCERN, FROM CONGRESS. I BELIEVE THE RUSSIA SANCTIONS BILL PASSED, I THINK, 98-2. SO THE SANCTIONS THAT WERE PASSED BY CONGRESS, THEY PASSED AT SUCH AN OVERWHELMING AMOUNT THAT PUTIN DIDN'T EVEN HAVE -- TRUMP DID NOT EVEN HAVE THE POWER TO VETO THEM. I THINK MANY OF US WOULD ARGUE THAT WHILE THOSE SANCTIONS HAVE BEEN PUT IN PLACE, THE TRUMP ADMINISTRATION HAS BEEN VERY SLOW AT IMPLEMENTING THOSE SANCTIONS. AND WHEN THE SANCTIONS REALLY START TO BITE, AS IN THE CONDITION OF THIS RUSSIAN ALUMINUM COMPANY, WHAT WE SEE INSTEAD OF, LET'S KEEP THE PRESSURE ON, AND I KNOW THERE'S CONCERNS FROM OUR EUROPEAN ALLIES ABOUT THESE SANCTIONS. INSTEAD THE TREASURY DEPARTMENT DREAMS UP THIS SERIES OF ACTIONS WHERE YOU TAKE A COMPANY THAT WAS COMPLETELY FOUNDED BY DERIPASKA, WHERE HE PLACED ALL THE MANAGEMENT TEAM IN PLACE AND THEY HAVE A SCHEME TO TRY TO TAKE HIS OWNERSHIP LEVEL DOWN FROM 70% TO ROUGHLY 40%, 45%. JAKE, I'VE BEEN IN BUSINESS LONGER THAN POLITICS. IF I'VE STILL GOT MY WHOLE MANAGEMENT TEAM IN THERE AND I'M STILL THE LARGEST SHAREHOLDER AT 40% OR 45%, I'M GOING TO STILL CONTROL THAT COMPANY. THAT IS WHY I, AND I KNOW A NUMBER OF MEMBERS, I THINK DEMOCRATS AND REPUBLICANS, WILL VOTE TO OVERRIDE THIS WEEK THE REMOVAL OF THESE SANCTIONS. THIS IS THE WORST TIME, AS MORE AND MORE OF THIS INFORMATION COMES OUT ABOUT TIES BETWEEN TRUMP AND TRUMP OFFICIALS AND THE RUSSIANS, IT IS THE WORST TIME TO SIGNAL THAT WE'RE GOING TO TAKE THE PRESSURE OFF OF OLIGARCHS LIKE DERIPASKA. \n",
      "620 >> I KNOW YOU REALLY WANT TO TALK ABOUT THE GOVERNMENT SHUTDOWN, SO THIS A VERY QUICK YES OR NO QUESTION. DO YOU THINK PRESIDENT TRUMP IS WITTINGLY OR UNWITTINGLY AN AGENT OF THE RUSSIANS? \n",
      "634 >> JAKE, I THINK THE EARLIER EVIDENCE THIS WEEK WHERE THE PRESIDENT'S CAMPAIGN MANAGER AND WE'RE UNAWARE OF WHETHER THE PRESIDENT KNEW, WHERE THE PRESIDENT'S CAMPAIGN MANAGER, AT WHOSE DIRECTION, TURNED OVER CONFIDENTIAL POLLING DATA TO A KNOWN RUSSIAN AGENT, A KNOWN RUSSIAN AGENT WHO HAS TIES TO PUTIN AND DERIPASKA. WHY WOULD YOU TURN OVER THAT INFORMATION? AND WHAT'S CURIOUS, JAKE, IS THAT IT WOULD BE THAT KIND OF INFORMATION THAT WOULD INFORM THE RUSSIANS LATER IN THE CAMPAIGN WHEN THEY LAUNCH THEIR SOCIAL MEDIA EFFORTS, OR THEY CREATED THESE FAKE IDENTITIES. AND AS WE'VE SEEN WITH CLEAR-CUT PROOF, A LOT OF THOSE EFFORTS WERE AIMED AT SUPPRESSING AFRICAN-AMERICAN VOTE. DID THEY USE THAT POLLING DATA TO GUIDE THE RUSSIAN SOCIAL MEDIA EFFORTS TO SUPPRESS AFRICAN-AMERICAN VOTE? WE DON'T KNOW THE ANSWER TO THAT YET. I WOULD HOPE THAT MUELLER HAS GOT MORE INDICATION. BUT IT'S A VERY REAL QUESTION. \n",
      "693 >> ALL RIGHT, SO THE ANSWER IS YOU DON'T KNOW YET. LET'S TURN TO THE SHUTDOWN. YOU REPRESENT ROUGHLY 34,000 FEDERAL WORKERS IN VIRGINIA WHO ARE CURRENTLY GOING WITHOUT PAY AND CONTRACTORS WHO MAY NEVER GET BACK PAY. LET'S ASK WHERE YOU ARE ON THIS DEBATE ABOUT THE BORDER WALL. IS IT YOUR POSITION THAT THERE'S NOT ONE PART OF THE NEARLY 2,000 MILE BORDER WITH MEXICO THAT COULD STAND TO HAVE ANY BARRIER OR WALL? \n",
      "721 >> THERE IS ALREADY 700 MILES-PLUS OF WALL THAT'S BEEN BUILT, SOME FOR MORE THAN A DECADE. THAT WAS DECIDED BY BORDER SECURITY EXPERTS. I'M FOR ADDITIONAL BORDER SECURITY. BUT THAT BORDER SECURITY OUGHT TO BE DRIVEN BY THE EXPERTS, NOT BY THE POLITICAL WHIMS OF A CAMPAIGN PROMISE WHERE TRUMP SAID THE WALL WAS GOING TO BE BUILT AND PAID FOR BY MEXICO. THIS GUY DOESN'T TELL THE TRUTH. SO MORE BORDER SECURITY, LET'S HAVE AT IT. WHILE WE'RE HAVING THAT DEBATE, LET'S REOPEN THE GOVERNMENT. TIM KAINE, MY FELLOW SENATOR AND I MET WITH A SET OF FEDERAL WORKERS THE OTHER DAY VERY BRIEFLY. HERE ARE THE THINGS WE HEARD. YOU WANT AN AIR TRAFFIC CONTROLLER WORKING OVERTIME WITHOUT PAY? YOU WANT THAT PERSON FOCUSED ON AIR SAFETY. YOU DON'T WANT 30% OF HIS MIND FOCUSED ON WHETHER HE'S GOING TO BE ABLE TO PAY HIS MORTGAGE OR PAY HIS KIDS' TUITION. WE HEARD FROM ANOTHER FEDERAL WORKER WHO HAD TO DRAW OUT -- SHE HAD SAVINGS. SHE HAD TO DRAW DOWN FROM HER I.R.A., WHERE EVEN IF SHE GETS REIMBURSED, SHE'LL STILL HAVE PAID THE TAX PENALTY. ANOTHER WORKER TOOK A MULTI THOUSAND DOLLAR INCREASE FROM THEIR CREDIT CARD. THOSE CREDIT CARD FEES, THEY'LL NEVER BE REIMBURSED. AND, JAKE, THE WORST STORY WE HEARD, THE -- JUST -- THIS ONE IS ONE WHERE I THINK THIS TRUMP CROWD DOES NOT THINK THROUGH ANYTHING. THEY BASICALLY, THEY HAD A 7-WEEK-OLD BABY WHEN THEY TRIED TO GET THEIR BABY ON THE INSURANCE, THEIR GOVERNMENT-OWNED INSURANCE, THE PERSON THAT WAS SUPPOSED TO FILL IN THE FORM WAS FURLOUGHED. THE DOCTOR GAVE A VERY EXPENSIVE MEDICINE FOR THE BABY. THANK GOODNESS THE GUY WAS ABLE TO CONVINCE THE INSURANCE COMPANY BUT COUNTLESS OTHERS ARE GOING WITHOUT THAT KIND OF BENEFIT. I THINK HISTORY WILL SHOW THAT DONALD TRUMP, THE SUPPOSED GREAT DEALMAKER, AND I'M WORKING ON A PIECE ON THIS, THAT BUSINESS SCHOOLS AND MANAGEMENT CONSULTANTS WILL LOOK BACK FOR YEARS AND SAY THIS WAS THE MOST INEPT NEGOTIATION. HE BOXED HIMSELF IN A CORNER. HE DIDN'T EMPOWER HIS NEGOTIATORS LIKE THE VICE PRESIDENT OR LINDSEY GRAHAM OR MITCH McCONNELL. HE'S NOT ALLOWED ANY WIN-WIN CIRCUMSTANCE, AND THE DISREGARD HE HAS PAID TO THE FEDERAL WORKERS WHERE HE HAS BEEN CAVALIER. NEVER SAT DOWN AND VISITED WITH THEM. AND TO ADD INSULT TO INJURY. THIS DOESN'T GET A LOT OF NEWS. WE, BIPARTISAN, PROMISED THE FEDERAL WORKFORCE A VERY MEAGER 1.9% PAY INCREASE. \n",
      "872 >> RIGHT. \n",
      "873 >> HE WIPED THAT PAY INCREASE OUT AS WELL AS THIS TREATMENT OF THE WORKFORCE THAT'S BEEN JUST AWFUL. \n",
      "880 >> SENATOR MARK WARNER FROM THE GREAT COMMONWEALTH OF VIRGINIA, THANK YOU FOR YOUR TIME. \n",
      "884 >>> WHY WOULD THE PRESIDENT HIDE ALL THE NOTES FROM HIS MEETING WITH VLADIMIR PUTIN? \n",
      "887 >>> PLUS, AS MORE DEMOCRATS ANNOUNCE THEIR PRESIDENTIAL CAMPAIGNS, ARE NEW DEMOCRATIC IDEALS DEFINING WHAT IT MEANS TO BE A PROGRESSIVE? STAY WITH US. Alright, I brought in Ensure Max Protein... To give you the Protein you need with less of the sugar you don't. (Straining) I'll take that. (Cheers) 30 grams of protein and 1 gram of sugar. Ensure Max Protein. In two great flavors. [[clap, clap]] ♪ Hey, Jen, which tie says, \"trustworthy but also fun\"? Gold down, oil up. Oil down, gold up. This is too busy. We need to make sure people can actually use this stuff. Which one says, \"hours of free live streaming coverage without cable or subscription fees\"? Aluminum, aluminum? You ready, Zack? Oh, we're ready. Welcome to the show. Let's make finance make sense. ♪ and back pain made it hard to sleep and get up on time. Then I found Aleve PM. The only one to combine a safe sleep aid, plus the 12 hour pain relieving strength of Aleve. I'm back. Aleve PM for a Better AM. Red Lobster's new Weekday Five Days.s here: Five Deals. For Fifteen Dollars Get a different deal every weekday til six pm Like Endless Shrimp Monday Admiral's Feast Tuesday Four course feast Wednesday and more. Five Days. Five Deals. Fifteen dollars. See you before six. -Jamie, this is your house? -I know, it's not much, but it's home. Right, kids? -Kids? -Papa, Papa! -[ Laughs ] -You didn't tell me your friends were coming. -Oh, yeah. -This one is tiny like a child. -Yeah, she is. Oh, but seriously, it's good to be surrounded by what matters most -- a home and auto bundle from Progressive. -Oh, sweetie, please, play for us. -Oh, no, I couldn't. -Please. -Okay. [ Singing in Spanish ] -Please. -Okay. WITH MY BLADDER LEAKAGE, THE PRODUCTS I'VE TRIED JUST DIDN'T FIT RIGHT. THEY WERE TOO LOOSE. IT'S GETTING IN THE WAY OF OUR CAMPING TRIPS. BUT WITH A RANGE OF SIZES, DEPEND FIT-FLEX IS MADE FOR ME. WITH A RANGE OF SIZES FOR ALL BODY TYPES, DEPEND FIT-FLEX UNDERWEAR IS GUARANTEED TO BE YOUR BEST FIT. who transition out of the U.S. Formilitary every year...ers ...one of the toughest parts is the search for a job that takes advantage of the skills you've gained while serving. You can now search with the phrase 'jobs for veterans' directly on Google... ...and then enter your Military Occupational Specialty Code. Google brings together job openings from across the web that match the skills you gained in your military role. Just click to apply and use your experience to guide your future. a book that you're ready to share with the world? Get published now, call for your free publisher kit today! \n",
      "1129 >>> WELCOME BACK TO \"STATE OF THE UNION.\" I'M JAKE TAPPER. PRESIDENT TRUMP FACING MORE QUESTIONS THIS MORNING AFTER A SERIES OF REVELATIONS ABOUT HIS DEALINGS WITH RUSSIA. THE PRESIDENT IS TEMPORARILY BACKING DOWN FROM HIS THREAT TO DECLARE A NATIONAL EMERGENCY OVER HIS BORDER WALL SAYING CONGRESS SHOULD COME TOGETHER TO FIGURE OUT WALL FUNDING AND REOPEN THE GOVERNMENT. JOINING ME, RON JOHNSON OF WISCONSIN, THE CHAIRMAN OF THE SENATE HOMELAND SECURITY COMMITTEE. THANKS FOR JOINING US. \"THE WASHINGTON POST\" IS REPORTING THAT PRESIDENT TRUMP HAS TRIED TO KEEP SECRET WHAT WAS SAID IN PRIVATE MEETINGS WITH VLADIMIR PUTIN, GOING SO FAR AS IN ONE INSTANCE TO TAKE AWAY HIS INTERPRETER'S NOTES. THE STORY SAYS AS A RESULT, U.S. OFFICIALS SAID THERE'S NO DETAILED RECORD, EVEN IN CLASSIFIED FILES OF TRUMP'S INTERACTION WITH RUSSIA'S LEADER AT FIVE LOCATIONS OVER THE PAST TWO YEARS. THE FBI INVESTIGATED WHETHER PRESIDENT TRUMP WAS WORKING ON BEHALF OF RUSSIA AGAINST AMERICAN INTERESTS. DOES ANY OF THIS CONCERN YOU? LET'S START WITH THE IDEA THERE ARE NO DETAILED RECORDS OF THOSE CONVERSATIONS WITH AN ADVERSARY LIKE RUSSIA. \n",
      "1190 >> WELL, GOOD MORNING, JAKE. I HAVE NO FIRSTHAND KNOWLEDGE OF WHAT THE FACTS ARE HERE. I DO KNOW PRESIDENT TRUMP WAS BURNED EARLIER BY LEAKS OF OTHER PRIVATE CONVERSATIONS, SO I COULD CERTAINLY UNDERSTAND HIS FRUSTRATION FROM THAT STANDPOINT. BUT YOU SAID EARLIER, THIS IS NOT A TRADITIONAL PRESIDENT. UNORTHODOX MEANS BUT HE IS PRESIDENT OF THE UNITED STATES. IT'S UP TO HIM IN TERMS OF WHO HE WANTS TO READ INTO HIS CONVERSATIONS WITH WORLD LEADERS. THAT'S JUST THE BASIC FACT. \n",
      "1214 >> DO YOU THINK -- WHY DO YOU THINK PRESIDENT TRUMP IS TRYING TO KEEP THESE MEETINGS OFF THE BOOKS? \"THE WASHINGTON POST\" STORY MADE IT CLEAR EVEN THE NATIONAL SECURITY ADVISER AT THE TIME COULDN'T FIND OUT WHAT WAS SAID AT ONE OF THESE MEETINGS. \n",
      "1225 >> AGAIN, I DON'T WANT TO SPECULATE BEYOND THE FACT THAT I KNOW HE WAS BURNED BY LEAKS IN OTHER AREAS. HE WAS FRUSTRATED BY IT. THAT MAY BE ONE EXPLANATION BUT OTHERWISE I CAN'T REALLY COMMENT FURTHER. \n",
      "1236 >> ARE YOU OKAY WITH THE FACT THAT THE KREMLIN KNOWS MORE ABOUT THESE MEETINGS THAN U.S. INTELLIGENCE AND THE NATIONAL SECURITY COMMITTEE? \n",
      "1243 >> IN THE END I'M GOING TO JUDGE THIS PRESIDENT BASED ON HIS ACTIONS. AS YOU SAID EARLIER, WE HAVE INCREASED SANCTIONS. WE DID -- WE HAVE BEGUN PROVIDING LETHAL DEFENSIVE WEAPONRY TO UKRAINIANS TO DEFEND THEIR INTEGRITY. THE JURY WILL BE OUT ON OTHER ACTIONS THIS PRESIDENT WILL OR WILL NOT TAKE. IN THE END YOU JUST HAVE TO BASICALLY JUDGE HIM ON HIS ACTIONS. WE DEFEATED BASICALLY ISIS AND HAVE TAKEN AWAY THAT CALIPHATE. WE WERE CONCERNED ABOUT A PRECIPITOUS PULLOUT. THAT'S GOING TO BE CONDITIONS BASED. WE CAN CONTINUE TO ATTACK ISIS FROM POSITIONS IN IRAQ. I WILL WAIT TO SEE BUT I'VE SEEN STRONG ACTIONS BY THIS ADMINISTRATION ON THE PART OF RUSSIA. THEY REALIZE RUSSIA'S A THREAT, AND I THINK BY AND LARGE WE HAVE BEEN RESPONDING TO THAT THREAT. \n",
      "1291 >> YOU ALSO MENTIONED THE U.S. WITHDRAWAL FROM SYRIA WHICH IS SOMETHING THAT I THINK RUSSIA APPLAUDED. THEY DON'T WANT THE U.S. IN SYRIA. BUT LET'S MOVE ON TO THE OTHER BIG STORY. YOU JUST HEARD YOUR COLLEAGUE SENATOR MARK WARNER TALKING ABOUT THE FBI COUNTERINTELLIGENCE INVESTIGATION INTO WHETHER PRESIDENT TRUMP WORKED ON BEHALF OF RUSSIA AGAINST THE INTERESTS OF THE UNITED STATES. WARNER SAID THE PRESIDENT AT ONE POINT WAS ALMOST PARROTING PUTIN'S POLICIES. DO YOU HAVE ANY CONCERNS PRESIDENT TRUMP MAY HAVE UNWITTINGLY BEEN DOING THINGS THAT WOULD HELP RUSSIA AND HURT THE UNITED STATES? \n",
      "1325 >> YEAH, I HEARD AN AWFUL LOT OF INNUENDO FROM SENATOR WARN OR THE INTELLIGENCE COMMITTEE AND HAS A LOT MORE KNOWLEDGE ABOUT THIS THAN I DO. THAT'S PART OF MY FRUSTRATION. I WISH THE MUELLER INVESTIGATION COULD COME TO CONCLUSION AND HE COULD ISSUE HIS REPORT. I WISH THE SENATE INTELLIGENCE COMMITTEE WOULD MOVE MORE EXPEDITIOUSLY TO PROVIDE US MORE INFORMATION IN TERMS OF WHAT THEY FOUND. WE'RE ALMOST TWO YEARS INTO THIS INVESTIGATION. I'VE NOT SEEN ANY EVIDENCE OF COLLUSION BETWEEN THE TRUMP CAMPAIGN AND RUSSIA. I HAVE SEEN EVIDENCE OF COLLUSION BETWEEN DEMOCRATS AND RUSSIA. WITH THE STEELE DOSSIER. WE STILL DON'T HAVE THE INFORMATION ON THAT. SO THERE ARE A HOST OF QUESTIONS OUTSTANDING ON ALL SIDES OF THE ISSUE. \n",
      "1365 >> WHAT EVIDENCE -- \n",
      "1366 >> THE AMERICAN PEOPLE -- WE NEED THE INFORMATION ON THIS SO WE CAN GET PAST THE INNUENDO AND DEAL WITH FACTS BECAUSE WE HAVE SERIOUS ISSUES FACING THIS NATION AND IT'S NOT GOOD WE HAVE THIS CLOUD HANGING OVER ANY ADMINISTRATION WHETHER IT'S THIS ONE OR PREVIOUS ADMINISTRATIONS OR NEXT ADMINISTRATIONS. WE NEED THE INFORMATION AND IT'S BEEN TOO LONG BEING DEVELOPED. WE NEED THE REPORTS. WE NEED THESE THINGS CONCLUDED. \n",
      "1388 >> WE KNOW FOR A FACT THERE WAS AN OFFER BY THE RUSSIANS TO PROVIDE DIRT ON HILLARY CLINTON AND TRUMP CAMPAIGN OFFICIALS MET WITH THAT LAWYER AND WE KNOW FOR A FACT THAT PAUL MANAFORT PROVIDED CAMPAIGN DATA TO CONSTANTINE KILIMNIK WHO HAS TIES TO RUSSIAN MILITARY INTELLIGENCE. SO THERE'S THAT. IN TERMS OF THE COLLUSION BETWEEN THE DEMOCRATS AND -- \n",
      "1408 >> WE ALSO KNOW FOR A FACT -- WE ALSO KNOW DEMOCRATS PAIDER IN STEELE DOSSIER. \n",
      "1415 >> RIGHT. \n",
      "1416 >> AND WE'VE SEEN ALL KINDS OF CORRUPTION. ANDREW McCABE TOOK OVER THE FBI AFTER THAT. HE'S NOW BEEN FIRED BECAUSE HE LIED TO THE FBI'S OWN INVESTIGATORS. SO WE'VE SEEN ALL KINDS OF -- \n",
      "1426 >> BUT THAT -- \n",
      "1429 >> VARIOUS ACTIVITY HERE. THAT I WANT TO GET TO THE BOTTOM OF, BUT WE CAN'T AS LONG AS THE MUELLER INVESTIGATION CONTINUES TO RUMBLE ON WITHOUT A CONCLUSION. SO WE NEED THE INFORMATION. WE NEED THESE INVESTIGATIONS CONCLUDED SO THAT THE AMERICAN PEOPLE UNDERSTAND EXACTLY WHAT HAPPENED SO WE CAN MOVE ON AND START ADDRESSING THE SERIOUS ISSUES FACING THIS NATION. \n",
      "1445 >> JUST AN IMPORTANT FACT. McCABE WAS FIRED -- \n",
      "1447 >> JAKE, I DON'T WANT TO DEAL IN SPECULATION. I WANT TO DEAL IN FACTS. \n",
      "1453 >> AND McCABE WAS FIRED, McCABE WAS FIRED FOR NOT BEING HONEST ABOUT A LEAK HE AUTHORIZED. AND THE LEAK WAS ONE DAMAGING TO HILLARY CLINTON, NOT A PRO-CLINTON LEAK. AN ANTI -- \n",
      "1466 >> HE LIED TO THE FBI. \n",
      "1467 >> GOOD RIDDANCE, I DON'T CARE. \n",
      "1470 >> LIED TO THE FBI. THAT'S SERIOUS. PEOPLE ARE GOING TO JAIL FOR LYING TO THE FBI. HERE'S THE ACTING DIRECTOR OF THE FBI. \n",
      "1476 >> I DON'T DISAGREE. \n",
      "1477 >> THAT'S SOME REAL CORRUPTION IN THE FBI. I HAVE SERIOUS QUESTIONS ABOUT THAT. \n",
      "1483 >> I DON'T DISAGREE, BUT MY ONLY POINT IN INSERTING THE FACT THERE IT WAS A LIE ABOUT A LEAK DAMAGING TO HILLARY CLINTON, NOT PRO-HILLARY CLINTON. LET'S TURN TO THE GOVERNMENT SHUTDOWN. NOW THE LONGEST SHUTDOWN. THE SENATE HAS GONE HOME. YOU'RE HOME. WARNER IS HOME. HUNDREDS OF THOUSANDS OF AMERICANS ARE NOT GETTING THEIR PAYCHECK. REPUBLICANS DID HAVE UNIFIED CONTROL OF THE FEDERAL GOVERNMENT FOR THE PAST FEW YEARS AND DID NOT PASS ANY MAJOR IMMIGRATION REFORM OR WALL FUNDING. OUR NEW CNN POLL OUT THIS MORNING SHOWS MOST AMERICANS ARE PUTTING THE BLAME FOR THE SHUTDOWN ON PRESIDENT TRUMP. IF THIS IS SO IMPORTANT AND SO NEEDED, WHY DIDN'T REPUBLICANS IN THE HOUSE AND SENATE PASS WALL FUNDING AT ANY POINT IN THE LAST TWO YEARS? \n",
      "1527 >> BECAUSE WE HAVE A MAJORITY IN THE SENATE BUT DON'T CONTROL IT. WE NEED DEMOCRATS TO WORK WITH US. AND HAVE DEMOCRATS STOP BEING HYPOCRITICAL AND PUT THEIR MONEY WHERE THEIR MOUTH IS AND FUND BETTER BARRIERS. THEY WORK. THEY SUPPORTED AND VOTE FORWARD ABOUT $8 BILLION OF BETTER BARRIER FUNDING IN THE 2013 IMMIGRATION REFORM. $40 BILLION IN TOTAL IN TERMS OF BORDER SECURITY. THIS IS A GROWING PROBLEM. IN 2012, A LITTLE OVER 11,000 PEOPLE CAME IN THIS COUNTRY AS FAMILY UNITS. LAST YEAR, IT WAS 107,000 PEOPLE COMING IN AS A FAMILY UNIT. IN THE FIRST THREE MONTHS OF THIS FISCAL YEAR, 75,000 PEOPLE. THIS WAS ALL SPARKED BY DACA. EVEN THE OBAMA ADMINISTRATION REALIZED WE HAD TO DETER THIS. IT'S A GROWING PROBLEM. IT'S NOT GOING AWAY. IT'S GETTING BIGGER AND BIGGER. DEMOCRATS CONTINUE TO MINIMIZE THIS. WE NEED BARRIERS AS THE FIRST STEP AND ALSO NEED TO FIX ALL KINDS OF BAD LAW AND LOOPHOLES AND LEGAL PRECEDENT THAT'S INCENTIVIZING, REWARDING PEOPLE COMING HERE AS UNACCOMPANIED CHILDREN FROM CENTRAL AMERICA OR AS MEMBERS OF FAMILY UNITS. AND THAT IS A GROWING PROBLEM. THAT IS THE PROBLEM AT THE BORDER AND IT'S A CRISIS AT THE BORDER. IT'S VIEWED AS A CRISIS IN 2014 WHEN 120,000 PEOPLE CAME IN AS FAMILY UNITS AND UNACCOMPANIED CHILDREN. LAST YEAR 145,000 PEOPLE CAME IN UNDER THAT SAME CATEGORY. IT'S A GROWING PROBLEM. IT NEEDS TO BE ADDRESSED, AND THE EASIEST SOLUTION TO THE SHUTDOWN, JUST GIVE PRESIDENT TRUMP THE MONEY FOR HIS -- THE MANDATE HE RECEIVED FROM THE AMERICAN PUBLIC. LET'S FACE IT. AS A CANDIDATE, THIS IS WHAT WE TALKED ABOUT. IF THERE WAS A MANDATE HE CAN CLAIM FROM HIS ELECTION, BETTER BORDER SECURITY, KEEPING THIS NATION SAFE. DEMOCRATS HAVE VOTED FOR THIS IN THE PAST. THIS COULD BE SOLVED IN 15 MINUTES AS THE PRESIDENT HAS SAID. JUST FUND THE BARRIERS WHICH WE NEED. \n",
      "1634 >> WE'RE OUT OF TIME, BUT I WANT TO GET YOU ON THE RECORD. IF NO COMPROMISE IS ABLE TO BE REACHED, WOULD YOU SUPPORT PRESIDENT TRUMP DECLARING A NATIONAL EMERGENCY TO BE ABLE TO FUND HIS BORDER WALL? \n",
      "1644 >> A BETTER SOLUTION WOULD BE TO PASS OUR SHUTDOWN FAIRNESS ACT WHICH IS GOING TO PAY THOSE INDIVIDUALS THAT ARE BEING FORCED TO WORK BECAUSE THEY ARE ESSENTIAL. SO I'VE GOT A PIECE OF LEGISLATION. GOT ABOUT FIVE CO-SPONSORS ALREADY. WE'LL INTRODUCE IT TOMORROW BUT IT WILL PAY THOSE WORKERS THAT SENATOR WARNER IS CONCERNED ABOUT. HOPEFULLY MITCH McCONNELL WILL BRING IT UP. HOPEFULLY DEMOCRATS CAN SUPPORT IT AND PRESIDENT TRUMP CAN SIGN IT SO THOSE INDIVIDUALS CAN GET PAID. \n",
      "1671 >> BEYOND THAT, ASSUMING THE SHUTDOWN STILL CONTINUES, WOULD YOU SUPPORT PRESIDENT TRUMP YES OR NO, DECLARING A NATIONAL EMERGENCY? \n",
      "1683 >> I WOULD HATE TO SEE IT. USING THAT ACT WOULD BE, IN THIS INSTANCE, WOULD BE FAR LARGER ACT THAN HAS EVER OCCURRED IN THE PAST. I'D PREFER NOT, PRIMARILY BECAUSE IF WE DO THAT, IT'S GOING TO GO TO COURT AND THE WALL WON'T GET BUILT. I WANT TO SEE THIS WALL GET BUILT. I WANT TO KEEP PRESSURE ON DEMOCRATS TO COME TO THE NEGOTIATING TABLE IN GOOD FAITH AND FUND WHAT THEY HAVE SUPPORTED IN THE PAST. \n",
      "1703 >> ALL RIGHT, SENATOR RON JOHNSON, REPUBLICAN OF WISCONSIN, CHAIRMAN OF THE HOMELAND SECURITY COMMITTEE. THANKS FOR JOINING US THIS SNOWY MORNING. WE APPRECIATE IT. \n",
      "1711 >>> AS POTENTIAL 2020 CANDIDATES START TO DEBATE HEALTH CARE POLICY, ARE CITIES AND STATES LEADING THE WAY? THE MAYOR OF NEW YORK CITY SAYS HE CAN GUARANTEE HEALTH CARE TO EVERYONE. HE'LL TELL US HOW, NEXT. The day after chemo shouldn't mean going back to the doctor just for a shot. With Neulasta Onpro patients get their day back... to be with family, or just to sleep in. Strong Chemo can put you at risk of serious infection. In a key study Neulasta reduced the risk of infection from 17% to 1%, a 94% decrease. Neulasta Onpro is designed to deliver Neulasta the day after chemo and is used by most patients today. Neulasta is for certain cancer patients receiving strong chemotherapy. Do not take Neulasta if you're allergic to it or Neupogen (filgrastim). An incomplete dose could increase infection risk. Ruptured spleen, sometimes fatal as well as serious lung problems, allergic reactions, kidney injuries and capillary leak syndrome have occurred. Report abdominal or shoulder tip pain, trouble breathing or allergic reactions to your doctor right away. In patients with sickle cell disorders, serious, sometimes fatal crises can occur. The most common side effect is bone and muscle ache. ask your doctor about Neulasta Onpro. Pay no more than $5 per dose with copay card. ask your doctor about Neulasta Onpro. I am a techie dad.n. I believe the best technology should feel effortless. Like magic. At Comcast, it's my job to develop, apps and tools that simplify your experience. My name is Mike, I'm in product development at Comcast. We're working to make things simple, easy and awesome. \n",
      "1908 >>> WELCOME BACK TO \"STATE OF THE UNION.\" I'M JAKE TAPPER. DEMOCRATS BEGIN ANNOUNCING THEIR 2020 PRESIDENTIAL BIDS, THE MAYOR OF NEW YORK CITY SAYS THEY SHOULD LOOK TO HIS POLICY OF THE MODEL. JOINING ME IS MAYOR BILL de BLASIO. YOU UNVEILED A HEALTH CARE PLAN GUARANTEEING HEALTH CARE COVERAGE YOU SAY TO THE 600,000 NEW YORKERS WITHOUT INSURANCE COVERAGE WHICH INCLUDES 300,000 UNDOCUMENTED IMMIGRANTS. I WANT YOU TO TAKE A LISTEN TO SOMETHING YOUR FELLOW MAYOR, MAYOR GILLUM SAID ABOUT HIS HEALTH CARE PROPOSAL DURING HIS CAMPAIGN FOR FLORIDA GOVERNOR. TAKE A LISTEN. \n",
      "1942 >> WE COULD NOT DO IT BY OURSELVES SOLELY HERE IN THE STATE OF FLORIDA BECAUSE IT WOULD COLLAPSE THE SYSTEM. WE'D ONLY ATTRACT THE SICKEST OF PATIENTS, AND IT WOULDN'T WORK. \n",
      "1952 >> HE WAS SAYING IN FLORIDA THEY COULD DO IT ONLY IF OTHER STATES JOINED HIM BECAUSE OTHERWISE ALL SICK PEOPLE WOULD JUST COME TO FLORIDA. WHAT'S TO STOP SICK PEOPLE FROM FLOCKING TO NEW YORK AND OVERBURDENING THE SYSTEM. \n",
      "1966 >> I DON'T SEE THAT HAPPENING, JAKE. WE SHOULD HAVE SINGLE PAYER, MEDICARE FOR ALL. NO QUESTION. BUT THE BOTTOM LINE IS RIGHT NOW WE HAVE 600,000 PEOPLE IN MY CITY WHO HAVE NO COVERAGE AT ALL. THAT'S UNACCEPTABLE. THAT'S MAKING US A CITY LESS HEALTHY, LESS SECURE THAN WE NEED TO BE. OUR PLAN IS GUARANTEED HEALTH CARE FOR ALL AND SAYS THIS SHOULD BE A PRIORITY TO ENSURE THAT WE HAVE A DECENT KIND OF SOCIETY. IF YOU DON'T DO THAT, WHAT HAPPENS? PEOPLE ARE SICK AT WORK. THEIR FAMILIES GET SICK. THEY GO TO THE EMERGENCY ROOM, WHICH IS THE SINGLE MOST COSTLY WAY TO PROVIDE HEALTH CARE. WE KNOW THAT BY GUARANTEEING HEALTH CARE, WE'RE GOING TO CREATE THE KIND OF SOCIETY THAT WORKS. AND BY THE WAY, ALL OVER AMERICA WE'RE HERE TO TALK ABOUT WHAT'S HAPPENING IN THIS NATIONAL DEBATE. THIS IS THE KIND OF THING DEMOCRATS SHOULD STAND FOR. IF WE SAY TO THE AMERICAN PEOPLE OUR JOB IS TO GET YOU HEALTH CARE NO MATTER WHAT, NO MATTER HOW MUCH MONEY YOU MAKE OR WHAT YOUR SITUATION, THAT'S THE KIND OF THING THAT IS GOING TO RESONATE WITH THE AMERICAN PEOPLE BECAUSE SO MANY AMERICANS, TENS OF MILLIONS ARE STRUGGLING TO MAKE ENDS MEET. HEALTH CARE IS ONE OF THEIR BIGGEST EXPENSES. \n",
      "2035 >> YOU SAID SOMETHING PRETTY RADICAL THIS WEEK THAT I WANT TO ASK YOU ABOUT. YOU SAID THERE'S PLENTY OF MONEY IN THE WORLD. THERE'S PLENTY OF MONEY IN THE CITY. IT'S JUST IN THE WRONG HANDS. \n",
      "2047 >> YEP. \n",
      "2049 >> THAT'S A QUOTE. \n",
      "2050 >> THAT IS A QUOTE. \n",
      "2052 >> WHO DECIDES WHOSE HANDS ARE THE RIGHT HANDS AND WHOSE HANDS ARE THE WRONG HANDS? \n",
      "2056 >> LOOK AT WHAT'S HAPPENING IN MY CITY. LOOK WHAT'S HAPPENING ALL OVER THE COUNTRY. MILLIONS UPON MILLIONS OF PEOPLE WHO LITERALLY CAN BARELY MAKE ENDS MEET. WORKING PEOPLE WORKING ONE JOB, TWO JOBS, WORKING HARDER THAN EVER, LONGER HOURS THAN EVER. THE PACE OF OUR LIVES GETS TOUGHER AND TOUGHER AND PEOPLE GET LESS AND LESS BACK. WHY? BECAUSE THE 1% REALLY HAS RIGGED THE SYSTEM, INCLUDING THE RECENT TAX LAW THAT GAVE A HUGE WINDFALL TO THE CORPORATIONS AND THE WEALTHY. THIS IS SYSTEMATIC. I SAID IN THE SPEECH THIS HAS BEEN AN AGENDA FROM REAGAN'S ADMINISTRATION THROUGH TO TRUMP'S TO TAKE MONEY FROM WORKING PEOPLE AND GIVE IT TO THE 1%. WHEN I SAY THERE'S PLENTY OF MONEY IN THIS COUNTRY, IT'S JUST IN THE WRONG HANDS, IT MEANS TO SAY WE NEED POLICIES THAT GIVE BACK TO WORKING PEOPLE. LIKE GUARANTEEING HEALTH CARE FOR ALL. \n",
      "2106 >> WHAT'S INTERESTING ABOUT THE ARGUMENT, WHICH STRUCK A LOT OF PEOPLE, IS YOU ARE NOT TALKING ABOUT FAIRNESS. YOU ARE SAYING THESE PEOPLE HAVE MONEY AND IT'S WRONG THAT THEY HAVE MONEY. NOT THAT THEY HAVE MONEY, THEY LIVE EXORBITANT OR WEALTHY LIFESTYLES AND CAN GIVE MORE TO HELP THESE PEOPLE. YOU'RE SAYING IT'S WRONG THEY HAVE MONEY. WHO IS DECIDING WHETHER IT'S WRONG? \n",
      "2127 >> IT'S CLEAR TO ME WHY IT'S WRONG BECAUSE GOVERNMENT POLICIES GAVE THE 1% EVERY CONCEIVABLE LEG UP. THIS WAS NOT BY ACCIDENT. AS I SAY, THIS WAS AN AGENDA. SYSTEMATIC. YOU GO BACK DECADES, EVEN TO THE TIME OF DWIGHT EISENHOWER. WE HAD SOME OF THE HIGHEST TAX RATES ON THE WEALTHY THIS COUNTRY EVER SAW. WE HAD A PROSPEROUS COUNTRY. WE HAD THAT PROSPERITY PRETTY WELL SHARED AMONG DIFFERENT PEOPLE, INCLUDING WORKING PEOPLE IN THIS COUNTRY. WE HAD INVESTMENTS IN INFRASTRUCTURE. THE KINDS OF THINGS THAT GREW THE ECONOMY FOR EVERYONE. OVER THE YEARS, SINCE RONALD REAGAN, THAT WAS A -- THERE WAS A SYSTEMATIC AGENDA TO TAKE THAT MONEY AND GET IT MORE AND MORE IN THE HANDS OF THE FEW. THAT WAS THROUGH TAX POLICY BUT A LOT OF OTHER POLICIES AS WELL. THIS WAS NOT AN ACCIDENT. DEMOCRATS AND PROGRESSIVES NEED TO BE BLUNT ABOUT THIS. AND PEOPLE WILL APPRECIATE THAT BLUNTLESS. WHEN WE SAY, FOR EXAMPLE, GUARANTEE HEALTH CARE FOR EVERYONE. THAT'S A DOABLE THING. THE MONEY IS THERE. WHEN I SAY, WE'RE GOING TO GUARANTEE THAT EVERYONE HAS A RIGHT TO TWO WEEKS OF PAID TIME OFF. PAID PERSONAL DAYS. SO THEY CAN LIVE THEIR LIVES BETTER. THE MONEY IS THERE, BUT IT'S NOT GOING TO THE RIGHT PEOPLE. \n",
      "2192 >> THE POINT IS -- BUT WHAT STRUCK ME AND A LOT OF PEOPLE IS YOU WEREN'T TALKING ABOUT THE TAX SYSTEM BEING WRONG. YOU ARE TALKING ABOUT THE HANDS BEING WRONG. BUT I WANT TO MOVE ON BECAUSE YOU ANNOUNCED YOU'RE ABOUT TO EMBARK ON A TOUR OF THE COUNTRY TO SPREAD THIS MESSAGE, SPREAD PROGRESSIVE IDEALS. SEVERAL FELLOW DEMOCRATIC MAYORS, LANDRIEU, GARCETTI, OTHERS ARE CONSIDERING 2020 BIDS. ARE YOU CONSIDERING RUNNING FOR PRESIDENT? \n",
      "2212 >> JAKE, I'M FOCUSED ON THE JOB I HAVE, BUT I'VE ALSO BEEN REALLY CLEAR, I'M GOING TO SPREAD THIS MESSAGE BECAUSE THIS SHOULD BE THE IDEA OF THE DEMOCRATIC PARTY. \n",
      "2218 >> ARE YOU CONSIDERING? \n",
      "2219 >> I'M FOCUSED ON MY JOB. BUT, LISTEN, RIGHT NOW OUR PARTY IS GOING THROUGH A SERIOUS DEBATE. AND THERE IS STILL A LOT OF MODERATE VOICES IN THE PARTY THAT DID NOT LEARN THE LESSONS OF 2016 AND ARE NOT LISTENING TO WHAT PEOPLE NEED IN THIS COUNTRY. SO I WANT TO PUSH THIS WHOLE PARTY AND I WANT TO INFORM THIS DEBATE IN THIS COUNTRY ABOUT THE FACT THAT WE COULD GO A LOT FARTHER. WE COULD BE A LOT BOLDER. \n",
      "2240 >> SO YOU'RE RULING IT OUT? \n",
      "2241 >> I NEVER RULE THINGS OUT BECAUSE YOU NEVER KNOW WHAT LIFE BRINGS BUT I'M FOCUSED ON THE WORK I DO NOW AND GETTING OUT THIS MESSAGE. \n",
      "2247 >> KIRSTEN GILLIBRAND LOOKS LIKE SHE'LL PROBABLY THROW HER HAT IN THE RING. SHE'S PROGRESSIVE. COULD YOU BACK HER? \n",
      "2254 >> I DON'T TALK ABOUT HYPOTHETICAL SITUATIONS. THERE'S A LOT OF GOOD CANDIDATES. MY POINT IS THE MESSAGE AND THE IDEA THAT WE SHOULD BE TALKING ABOUT. THERE'S NOT A CONSENSUS YET IN OUR PARTY. THERE IS STILL, I THINK, A LACK OF RECOGNITION THAT IF YOU HAVE TENS OF MILLIONS OF PEOPLE HURT, WE'RE NOT SPEAKING TO THEM. DONALD TRUMP SPOKE TO THEM. I'VE GOT TO BE BLUNT ABOUT THIS. DONALD TRUMP, I REMEMBER THOSE TWO-MINUTE ADS AT THE VERY LAST DAY OF THE CAMPAIGN IN 2016. TRUMP'S AD SEEMED LIKE A POPULIST MESSAGE IN A GOOD SENSE OF THE WORD POPULIST, THAT IT WAS SPEAKING TO PEOPLE'S PAIN AND CHALLENGES. UNFORTUNATELY WE COULD HEAR A LOT OF THE NEGATIVITY WE LATER SAW IN DONALD TRUMP, DIVISIVENESS, TOO. BUT ON THE ECONOMIC ISSUES, HE UNDERSTOOD PEOPLE WERE HURTING. THEIR LIVES WERE GETTING HARDER, NOT EASIER. THE NEXT GENERATION'S PROSPECTS WERE LOOKING WORSE THAN THE ONE BEFORE. AND WE NEED THIS PARTY TO BE THE PARTY OF WORKING PEOPLE AGAIN. WE CAN'T DO THAT IF WE'RE AFRAID TO SAY THE WEALTHY HAVE TAKEN ADVANTAGE OF THE SYSTEM. THE SYSTEM IS RIGGED. AND THEN TELL PEOPLE SPECIFIC THINGS WE'LL DO FOR THEM. IF I SAY THE AVERAGE AMERICAN, WE'RE GOING TO FIX THE HEALTH CARE PROBLEM, ONE OF THE BIGGEST EXPENSES OF YOUR LIFE AND GET YOU GUARANTEED HEALTH CARE, A WAY TO HAVE TIME OFF WITH YOUR FAMILY. MY CONSTITUENTS TALK TO ME ABOUT ALL THE CHANGES IN THEIR LIVES THAT TAKE THEM AWAY FROM THEIR OWN FAMILY. NO TIME FOR THEMSELVES. NO TIME FOR THEIR LOVED ONES, A MENTAL HEALTH DAY. THAT SHOULD BE A GUARANTEED. EVERY OTHER INDUSTRIALIZED COUNTRY IN THIS WORLD PROVIDES PEOPLE AT LEAST TWO WEEKS OF PAID VACATION. NOT THE UNITED STATES OF AMERICA. IF THE DEMOCRATS STOOD UP FOR SOMETHING LIKE THAT, IT WOULD CHANGE THE ENTIRE DISCUSSION. \n",
      "2342 >> ALL RIGHT. MAYOR de BLASIO NOT RULING OUT A 2020 BID. THANKS FOR BEING HERE. \n",
      "2345 >>> WE'VE SEEN SOME REPUBLICAN LAWMAKERS BREAK WITH THE PRESIDENT ON THE BORDER WALL. NOW ARE WE STARTING TO SEE SOME CRACKS IN DEMOCRATS' OPPOSITION TO ANY SORT OF BARRIER? THAT'S NEXT. STAY WITH US. Chicken?! Chicken. Chicken! That's right, Candace-- new Chicken Creations from StarKist. Buffalo Style Chicken in a pouch-- bold choice, Charlie! Just tear, eat... Mmmmm. And go! Try all of my Chicken Creations! Chicken! \n",
      "2604 >>> WE'RE BACK WITH BREAKING NEWS. PRESIDENT TRUMP SAID HE WOULD WILLINGLY TAKE THE BLAME FOR THE GOVERNMENT SHUTDOWN. HE LATER TOOK THAT BACK. BUT IT DOES LOOK LIKE THAT'S HAPPENING. A BRAND-NEW CNN POLL OUT THIS HOUR SHOWS 55% OF THE AMERICAN PEOPLE THINK THE PRESIDENT IS MORE TO BLAME FOR THE SHUTDOWN COMPARED TO 32% WHO BLAME DEMOCRATS IN CONGRESS. LET'S DISCUSS. S.E. CUPP. THE PRESIDENT SAID HE'D TAKE THE BLAME FOR IT. HE TRIED TO TAKE THAT BACK BUT THE AMERICAN PEOPLE ARE HOLDING HIM TO THAT. \n",
      "2634 >> I THINK THAT'S FOR NOW. THE PAIN POINT WILL COME WHERE I THINK THE AMERICAN PEOPLE KNOWING WHAT THEY KNOW, KNOWING HOW WE GOT HERE WILL SAY, DOESN'T MATTER. YOU ALL ARE IN CHARGE. WE'RE BLAMING THE LOT OF YOU. AND WE'RE NOT THERE YET. RIGHT NOW, I THINK THE AMERICAN PEOPLE CLEARLY PUT THE ONUS ON THE PRESIDENT. BUT I THINK WE'LL GET SICK OF THIS GAME OF CHICKEN. AND IT WILL DETERMINE WHEN AND IF DEMOCRATS DECIDE, OKAY, WE'RE GOING TO COME TO THE TABLE OR IF THEY DECIDE WE DON'T HAVE ANY INCENTIVE TO. \n",
      "2662 >> BUT, HOLD ON. DEMOCRATS HAVE COME TO THE TABLE. AND EVEN LAST WEEK WE HAD A REPORTING THAT SHOWED THAT REPUBLICANS BEFORE THE SHUTDOWN HAPPENED, THEY PASSED A SPENDING BILL THINKING, OKAY, WE'VE GOT A DEAL. THEY THOUGHT THIS WEEK THERE WAS GOING TO BE A DEAL THAT INCLUDED DACA, AND IT TURNED OUT THAT WASN'T HAPPENING. PART OF THE PROBLEM HERE IS THAT TRUMP HAS A RECORD OF BEING SO INDECISIVE, SUCH A BAD NEGOTIATOR, KIND OF ALL OVER THE MAP, THAT HIS OWN PEOPLE ARE SAYING THEY'RE NOT SURE WHAT HE WANTS TO DO. SO McCONNELL IS SITTING BACK SAYING, I'M NOT DOING ANYTHING UNTIL I KNOW WHAT THE PRESIDENT IS GOING TO ACTUALLY SIGN. \n",
      "2697 >> IT IS TRUE McCONNELL WON'T BRING UP A BILL UNTIL HE KNOWS THE PRESIDENT WILL SIGN IT BECAUSE HE GOT BURNED BEFORE. \n",
      "2704 >> LOOK, THE PRESIDENT IS THE HEAD OF THE REPUBLICAN PARTY. HE IS CALLING THE PLAYS. THE WHITE HOUSE IS STUNNED BY HOW INTRACTABLE THE DEMOCRATS ARE. PELOSI SAYS SHE WON'T NEGOTIATE OVER A WALL NOW OR IF THEY OPEN UP THE GOVERNMENT. SO THEY'RE BASICALLY SAYING, WE USED TO BE FOR BORDER SECURITY BUT NOW BECAUSE IT'S YOUR IDEA WE'RE NOT FOR IT ANYMORE. IT'S COMPLETELY HYPOCRITICAL. THE WHITE HOUSE, BY THE WAY, THEY DON'T CARE ABOUT POLLING. THEY CARE ABOUT SECURING THE BORDER FOR ARE THE AMERICAN PEOPLE. THEY THINK IT'S A HUGE PROBLEM AND A VAST MAJORITY OF PEOPLE THINK IT'S A PROBLEM AND SOME THINK IT'S A CRISIS. SO I DO THINK ASIDE FROM THIS POLLING, THERE'S SOMETHING THAT THE AMERICAN PEOPLE UNDERSTAND IS GOING ON AND MUST BE DEALT WITH. \n",
      "2744 >> FIRST OF ALL, THE MAJORITY OF THE AMERICAN PEOPLE DON'T SUPPORT BUILDING A WALL AND THAT'S BEEN -- \n",
      "2749 >> BUT THEY KNOW THERE'S A BORDER CRISIS. \n",
      "2751 >> THE VAST MAJORITY OF THE AMERICAN PEOPLE DON'T. LET'S JUST GO BACK 11 MONTHS. FEBRUARY 2018, DEMOCRATS. I MEAN, I'M TALKING BERNIE SANDERS, ELIZABETH WARREN, VOTING TO GIVE THIS PRESIDENT $25 BILLION, INCLUDING MONEY -- NOW IT WAS OPEN ENDED. YOU COULD BUILD A WALL, USE HIGH TECHNOLOGY. $25 BILLION. IF THERE WAS A NATIONAL EMERGENCY, DID IT OCCUR NOW, AND LET ME SAY THE SAME SITUATION AT THE BORDER EXISTS TODAY THAT EXISTED IN FEBRUARY 2018. \n",
      "2778 >> THIS IS WHAT I MEAN. \n",
      "2779 >> THIS ISN'T WHAT YOU MEAN. \n",
      "2781 >> YOU DON'T KNOW WHAT I'M GOING TO SAY. \n",
      "2785 >> LET ME FINISH AND THEN -- \n",
      "2785 >> DON'T INTERPRET WHAT I'M GOING TO SAY. \n",
      "2788 >> DON'T INTERPRET WHAT I'M GOING TO SAY. LET ME BE VERY, VERY CLEAR. $25 BILLION, THIS PRESIDENT WORKED SO THAT WE COULD ONLY GET 54 VOTES, INCLUDING VERY PROGRESSIVE. AND SECONDLY, THE CRISIS AT THE BORDER IS MORE HUMANITARIAN. I WAS IN CONGRESS IN 1993. IT WAS 1.6 MILLION PEOPLE GETTING DETAINED AT THE BORDER. IT'S DOWN TO 400,000. SO THERE -- IT ISN'T AN EMERGENCY. YOU KNOW WHO IS COMING? PEOPLE LEAVING ALMOST THESE QUASI NARCO STATES FUELED BY OUR CONSUMPTION OF WEALTH. \n",
      "2824 >> GOING BACK 11 MONTHS, ALL OF WHAT YOU SAID IS TRUE. THAT'S THE HISTORY OF HOW WE GOT HERE. MY POINT IS, EVENTUALLY THE AMERICAN PEOPLE GET SICK OF TALKING ABOUT HOW WE GOT PREGNANT. WE'RE HAVING A BABY. LET'S FIGURE IT OUT. WE'RE NOT THERE YET. THE POLLING SHOWS WE'RE NOT. THE POLLING SHOWS THE AMERICAN PEOPLE HAVE DECIDED DONALD TRUMP IS RESPONSIBLE. THEY MAY GET TIRED OF ALL THIS GOING BACK IN HISTORY AND HOW WE GOT HERE. \n",
      "2850 >> YOU SAY THE PRESIDENT DOESN'T CARE ABOUT POLLING. I DON'T KNOW THAT I BELIEVE THAT, BUT YOU CARE ABOUT POLLING AND LOOK AT THIS. THERE'S EROSION IN PRESIDENT TRUMP'S BASE WITH WHITE VOTERS, WITHOUT A COLLEGE EDUCATION, THE PRESIDENT'S APPROVAL RATING HAS DROPPED 9 POINTS JUST SINCE DECEMBER. AND JUST IN TERMS OF HIS JOB APPROVAL RATING, AND ONE HAS TO THINK THAT THIS SHUTDOWN HAS TO HAVE FIGURED IN THAT AT LEAST TO A DEGREE. \n",
      "2878 >> YEAH, SOME OF THIS IS WITHIN THE MARGIN OF ERROR. A HIGHER MARGIN OF ERROR AND YOU GET THESE SUBCOHORTS. YOU DON'T WANT TO SEE YOUR NUMBERS GOING DOWN. YOU KNOW THAT'S TRUE. YOU DON'T WANT TO SEE YOUR -- \n",
      "2888 >> ANYWAY, KEEP GOING. \n",
      "2889 >> IT'S PLUS OR MINUS 6.8%. I'M MODERATELY PROFICIENT IN MATH SO I CAN COUNT. BUT THE REALITY IS YOU DON'T WANT TO SEE IT GOING THE WRONG WAY. WHAT I THINK THE PRESIDENT HAS COME TO THE CONCLUSION OF, IF I BEND ON MY MOTIVATING ITEM. THIS MOTIVATED ME INTO THE RACE, GOT ME THE NOMINATION AND WON ME THE PRESIDENCY. IF I BEND ON BORDER SECURITY, THIS IS GOING TO GET EVEN WORSE. \n",
      "2914 >> KAREN, TAKE A LISTEN. THE FACT IS THERE ARE DEMOCRATS WHO SUPPORT ADDING SOME NEW BARRIERS TO THE BORDER. SENATOR MARK WARNER, NOT AMONG THEM APPARENTLY WHEN I ASKED HIM THIS MORNING, BUT HERE'S CONGRESSWOMAN KATIE HILL TALKING ABOUT WHAT SHE MIGHT VOTE FOR ON THE BORDER. \n",
      "2931 >> I WILL VOTE FOR SOME MONEY FOR PHYSICAL BARRIERS. IT'S NOT GOING TO BE -- IT'S NOT GOING TO BE ACROSS THE ENTIRE 2,000-MILE STRETCH AND IT'S CERTAINLY NOT GOING TO BE A CONCRETE WALL, BUT IT WILL BE PART OF A PACKAGE, I CAN ALMOST BET ON IT. \n",
      "2945 >> SHE'S A FRESHMAN MEMBER FROM CALIFORNIA. \n",
      "2948 >> SO THIS MINUTIA OF -- THIS IS WHERE I AGREE WITH S.E. THIS WE'RE GOING TO REBUILD HERE AND STRENGTHEN IT THERE. THAT'S THE PART WHERE THE AMERICAN PEOPLE ARE -- THEY ARE SICK OF THAT. BUT THEY'RE VERY CLEAR AS THE POLL SHOWS, AND -- AND BY THE WAY, YES, DEMOCRATS ARE FOR BORDER SECURITY BUT THEY'RE NOT GOING TO GIVE HIM THIS MONEY FOR THE WALL. THEY'VE BEEN VERY FIRM ABOUT THAT. BUT THERE'S SOMETHING ELSE GOING ON HERE IN THESE POLLING NUMBERS. WHAT PEOPLE UNDERSTAND, YOU'RE RIGHT, SCOTT. THIS IS HOW HE WON, RACE BAITING. THAT'S WHAT THIS WALL REPRESENTS. AND THAT WAS WHAT THE SPEECH THIS WEEK REPRESENTED. THAT'S HOW DONALD TRUMP WON. FEAR OF OTHER. FEAR OF RACIAL TANGES AND SEXISM. HE'S IN TROUBLE ON THE RUSSIA INVESTIGATION SO HE'S GONE BACK TO THAT HITTING OVER AND OVER AGAIN THE ONE THING THAT HE KNOWS WILL KEEP HIS BASE FIRED UP AND READY FOR HIM. LOOK WHAT HAPPENED JUST IN THIS RECENT ELECTION. HE LOST WOMEN, WHITE WOMEN, COLLEGE EDUCATED WOMEN. SO HIS BASE IS SHRINKING. HE'S NOT EXPANDING. \n",
      "3017 >> I THINK, LOOK, THE PRESIDENT BEGAN HIS CAMPAIGN FOR PRESIDENCY OF THE UNITED STATES SAYING MEXICANS ARE MURDERERS, RAPISTS, DRUG DEALERS, LET'S GET RID OF THEM. \n",
      "3026 >> AND SOME I'M SURE ARE FINE PEOPLE. \n",
      "3029 >> JAKE, THANK YOU, FOR THE CLARIFICATION. \n",
      "3031 >> SO THAT'S THE FULL QUOTE. I'M NOT EXCUSING IT BUT THAT'S THE FULL QUOTE. \n",
      "3035 >> BUT THAT WAS THE FOCUS ON HIS CAMPAIGN. AND THEN HE HAD HIS POLITICAL HOW WOULD YOU SAY IT, ORGANIZERS IN THIS CAMPAIGN SAY MENTION THE WALL AND SAY MEXICO'S GOING TO PAY FOR IT. LOOK, HE MIGHT AS WELL OF TAKEN HIS MIDDLE FINGER AND, YOU KNOW, JUST CONSTRUCTED IT AND POINTED IT AT MEXICO. THAT IS REALLY WHAT THIS IS ALL ABOUT. MEXICAN, RACIST KIND OF BORDER WALL. \n",
      "3065 >> IT WAS THE WINNING TROPE. \n",
      "3066 >> WHAT WE'RE HEARING AT THE TABLE IS THIS IS JUST ABOUT RACISM. \n",
      "3069 >> WELL, THERE'S CERTAINLY SOME OF THAT UNDERPINNING THIS. BUT THE PRESIDENT -- LET'S BE REAL CLEAR, THE PRESIDENT LOST THIS ISSUE. HE LOST IT LAST YEAR POLITICALLY BECAUSE HE WANTED TO TWEET AND RALLY MORE THAN HE WANTED TO GOVERN. HE LOST HIS OPPORTUNITY WHEN HE HAD REPUBLICANS WHO WOULD HELP HIM GET THIS ONTO HIS DESK, AND HE'S LOSING NOW. AND YOU KNOW HE'S LOSING BECAUSE THEY'RE DOING THE SPAGHETTI ON THE WALL TREND, LET'S SEE WHAT STICKS. WELL, MAYBE WE'LL DECLARE A NATIONAL EMERGENCY. LET'S USE HURRICANE RELIEF MONEY TO FUND THIS. LET'S SEE WHAT WILL WORK, AND NOTHING'S WORKED. AND THE DEMOCRATS ARE COMING TO THE TABLE, THEY DON'T HAVE TO. PUBLIC POLLING MIGHT CHANGE ON THIS AND PUSH THEM BACK TO THE TABLE, BUT AS IT STANDS RIGHT NOW THE PRESIDENT HAS LOST, AND WE'RE SEEING THE RESULTS. \n",
      "3126 >> SCOTT, YOU SAY YOU KNOW A WAY THAT THIS CAN BE SOLVED AND THE DEMOCRATS WILL VOTE FOR IT, REPUBLICANS WILL VOTE FOR IT, THE PRESIDENT WILL GET HIS MONEY AND -- \n",
      "3139 >> LET'S TAKE THESE BILLS THE HOUSE PASSED LAST WEEK, THE FUNDING BILLS, AMEND THEM IN THE SENATE, PUT MONEY FOR A WALL AND PUT THEM ON THE FLOOR. THEY CAN'T DO THAT UNTIL THE PRESIDENT PUBLICLY SIGNALS HE WILL SIGN IT, BUT MY PRESUMPTION IS THE MINUTE HE SAYS I'LL DO IT, PUT IT -- \n",
      "3167 >> THE ONE PROBLEM IN ALL OF THIS IS WILL THE PRESIDENT SIGN IT, AND NOBODY KNOWS WHAT HE WILL OR WON'T SIGN. BUT I DO THINK THE AMERICAN PEOPLE KNOW AND I THINK THIS IS SHOWING IN THE POLLING, YOU DON'T HAVE TO HAVE THIS FIGHT AND KEEP THE SHUTDOWN. IT'S THE TENS AND THOUSANDS OF OTHER -- IT'S SMALL BUSINESSES THAT RELY ON THEM WHO ARE NOW GOING INTO DEBT. AND YOU TALK ABOUT THE PAIN. THERE'S NO REASON TO CONTINUE THIS. \n",
      "3197 >> SCOTT SAYS LET'S DO IT THIS WAY. HERE'S THE PROBLEM, SCOTT. THE GLUE KEEPING THIS COALITION TOGETHER IS BEING ANTI-GOVERNMENT. SO HE WANTS THE WALL. IF ALL OF A SUDDEN HE FREES 2 MILLION DREAMERS THERE WILL BE AN UP RISING. THEY CAN'T MOVE DECISIVELY -- NOT ONLY THAT I CAME HERE TO CNN ONCE AND I SAID I WILL TAKE BRICKS DOWN THERE TWRSH I WILL HELP BUILD -- \n",
      "3225 >> IF HE DOES THE DREAMERS? \n",
      "3227 >> YES, BECAUSE WHAT'S SO IMPORTANT ARE THE LIVES OF THESE YOUNG MEN AND WOMEN. AND I WAS EVISCERATED BY MY PARTY BY SAYING THAT, BUT YOU KNOW WHAT WE'VE GOT TO SOLVE THE PROBLEM FIRST. \n",
      "3243 >> WE MAY CALL IT THE DAMAGE AGES, BUT PRESIDENT TRUMP SAYS YES, THAT'S THE SUBJECT OF THIS WEEK'S STATE OF THE CARTOONIAN NEXT. It's a feeling that's hard to describe... ♪ ...and even harder to forget. ♪ The United States Virgin Islands. [[clap, clap]] ♪ Hey, Jen, which tie says, \"trustworthy but also fun\"? Gold down, oil up. Oil down, gold up. This is too busy. We need to make sure people can actually use this stuff. Which one says, \"hours of free live streaming coverage without cable or subscription fees\"? Aluminum, aluminum? You ready, Zack? Oh, we're ready. Welcome to the show. Let's make finance make sense. ♪ SeaOnly Abreva cany to help sget rid of it in... ...as little as 2 1/2 days when used at the first sign. Abreva starts to work immediately to block the virus and protect healthy cells. Abreva acts on it. So you can too. the doctor's office just for a shot. But why go back there... when you can stay home with Neulasta Onpro? Strong Chemo can put you at risk of serious infection. In a key study Neulasta reduced the risk of infection from 17% to 1%, a 94% decrease. Neulasta Onpro is designed to deliver Neulasta the day after chemo and is used by most patients today. Neulasta is for certain cancer patients receiving strong chemotherapy. Do not take Neulasta if you're allergic to it or Neupogen (filgrastim). An incomplete dose could increase infection risk. Ruptured spleen, sometimes fatal as well as serious lung problems, allergic reactions, kidney injuries and capillary leak syndrome have occurred. Report abdominal or shoulder tip pain, trouble breathing or allergic reactions to your doctor right away. In patients with sickle cell disorders, serious, sometimes fatal crises can occur. The most common side effect is bone and muscle ache. If you'd rather be home ask your doctor about Neulasta Onpro. Pay no more than $5 per dose with copay card. reach her health goals! I'm in! But first... Shelfie! The great-tasting nutrition of Ensure. With up to 30 grams of protein and 26 vitamins and minerals! Ensure. For Strength and Energy. Ensure. Come hOk., babe. Nasty nightime heartburn? Try Alka-Seltzer PM Gummies. The only fast, powerful heartburn relief, plus melatonin so you can fall asleep quickly. Oh, what a relief it is! \n",
      "3508 >>> WHEN IT COMES TO PRESIDENT TRUMP'S MOST PROMINENT POLICY POSITION HE INSISTS THE OLD WAY IS THE BEST. THAT'S THE SUBJECT OF THIS WEEK'S STATE OF THE CARTOONION. PRESIDENT TRUMP AGREES A WALL IS NOT A NEW IDEA. \n",
      "3521 >> THEY SAY IT'S A MEDIEVAL SOLUTION, A WALL. THAT'S TRUE, IT'S MEDIEVAL BECAUSE IT WORKED THEN AND IT WORKS EVEN BETTER NOW. \n",
      "3528 >> THERE ARE OTHER MEDIEVAL IDEAS, PERHAPS THE PRESIDENT MIGHT WANT TO TRY OUT. LEECHES FOR THOSE SNIFFLES WE HEARD THE OTHER NIGHT. MAYBE A BORDER MOAT. \n",
      "3539 >> IT'S TREMENDOUSLY BIG AND TREMENDOUSLY WET. TREMENDOUS AMOUNTS OF WATER. \n",
      "3544 >> MAYBE THE GOVERNMENT SHUTDOWN COULD BE RESOLVED BY A SWORD FIGHT BETWEEN LORD McCONNELL AND LADY PELOSI. THE PRESIDENT HAS LONG EMBRACED MEDIEVAL THEMES. JUST THE OTHER DAY HE USED A MEME FROM THE ULTIMATE MEDIEVAL FANTASY TV SHOW \"GAME OF THRONES\" TWEETING THIS IMAGE, THE WALL IS COMING, AS REFERENCES GO FOR PUBLIC POLICY WE SHOULD PROBABLY NOTE THAT \"GAME OF THRONES\" IS A SHOW THAT FEATURES ICE ZOMBIES AND DRAGONS. ALSO, SPOILER ALERT, THE SHOW'S FAMOUS GREAT WALL PROTECTING WEST EROS FROM THE HOARDS OF ICE ZOMBIES FELL AT THE END OF LAST SEASON. \n",
      "3582 >> NOT SINCE THE MEDIEVAL TIMES HAS ANYTHING HAPPENED LIKE THIS. \n",
      "3586 >> WE SHOULD NOTE THAT THE PRESIDENT'S EMBRACE OF MEDIEVAL TIMES, WHETHER REAL OR FANTASY FICTION, DOES CAPTURE A CERTAIN SPIRIT OF THIS ERA. \n",
      "3594 >> IF YOU THINK THIS HAS A HAPPY ENDING, YOU HAVEN'T BEEN PAYING ATTENTION. \n",
      "3599 >> THEY SAY A WALL IS MEDIEVAL. WELL, SO IS A WHEEL. A WHEEL IS OLDER THAN A WALL. A WHEEL WORKS AND A WALL WORKS. \n",
      "3610 >> FAREED ZAKARIA STARTS NOW. \n",
      "3618 >>> THIS IS \"\"GPS,\" THE GLOBAL PUBLIC SQUARE. WELCOME TO ALL OF YOU IN THE UNITED STATES AND AROUND THE WORLD. I'M FAREED ZAKARIA. TODAY ON THE SHOW, POMPEO IN ARABIA, THE SECRETARY OF STATE MAKES HIS CAIRO SPEECH. \n",
      "3635 >> THE AGE OF SELF-INFLICTED AMERICAN SHAME IS OVER. \n",
      "3638 >> AND IT IS VERY DIFFERENT FROM BARACK OBAMA'S. \n",
      "3645 >> I'VE COME HERE TO CAIRO TO SEEK A NEW BEGINNING, BETWEEN THE UNITED STATES AND MUSLIMS AROUND THE WORLD. \n",
      "3651 >> WE EXAMINE THE TRUMP ADMINISTRATION'S MIDDLE EAST POLICY WITH A TERRIFIC PANEL. \n",
      "3656 >>> BUT FIRST THE PRESIDENT THREATENS TO DECLARE A NATIONAL EMERGENCY IF THE DEMOCRATS DON'T\n"
     ]
    }
   ],
   "source": [
    "print_sample(CNN_shows_2019, i=300)"
   ]
  },
  {
   "cell_type": "code",
   "execution_count": 15,
   "metadata": {
    "collapsed": true,
    "scrolled": true
   },
   "outputs": [],
   "source": [
    "# test sample\n",
    "def segment_shows(show_data, date_range, time_range, f_name, include_wknd=False, show_id_start=0):\n",
    "    segment_rows = [[\"Segment ID\", \"Date\", \"Time (pt)\", \"Program\", \"Start\", \"Stop\", \"Duration\", \"Text\"]]\n",
    "    snippet_rows = [[\"Segment ID\", \"Snippet ID\", \"Day\", \"Time (pt)\", \"Program\", \"Start\", \"Stop\", \"Duration\", \"Text\"]]\n",
    "    show_ID = show_id_start\n",
    "    for show_info in sorted(show_data, key=lambda x: str_to_datetime(x['start_localtime'])):\n",
    "        dt = str_to_datetime(show_info['start_localtime'])\n",
    "        if date_range[0] <= dt <= date_range[1] and (dt.hour+3-12) in time_range and (dt.weekday()<5 or include_wknd):\n",
    "            p = show_info['program']\n",
    "            day, time = str(dt).split()\n",
    "            snippets, segments = segment(show_info)\n",
    "            segment_ID = 0\n",
    "            for s, t0, tn in segments:\n",
    "                segment_rows.append(['{}_{}'.format(show_ID, segment_ID), day, time, p, t0, tn, tn-t0, s])\n",
    "                segment_ID += 1\n",
    "            snippet_ID = 0\n",
    "            for s, t0, tn, segment_ID in snippets:\n",
    "                snippet_rows.append(['{}_{}'.format(show_ID, segment_ID), snippet_ID, day, time, p, t0, tn, tn-t0, s])\n",
    "                snippet_ID += 1\n",
    "            show_ID +=1\n",
    "    with open(f_name + '_segments.csv','w') as csv_f:\n",
    "        csv.writer(csv_f).writerows(segment_rows)\n",
    "    with open(f_name + '_snippets.csv','w') as csv_f:\n",
    "        csv.writer(csv_f).writerows(snippet_rows)"
   ]
  },
  {
   "cell_type": "code",
   "execution_count": 20,
   "metadata": {},
   "outputs": [],
   "source": [
    "full_range = [TRUMP_CAMGAIN_BEGINS, datetime.datetime(2019,1,1)]\n",
    "range_2019 = [datetime.datetime(2019,1,1), datetime.datetime(2019,4,23)]\n",
    "jan_2018_range = [datetime.datetime(2018,1,1), datetime.datetime(2018,1,31)]\n",
    "# sample cnn segmentation\n",
    "segment_shows(FOX_shows_2018jan, jan_2018_range, [8,9,10], 'Transcript_Segments/FOXNEWS_jan2018', show_id_start=10000)"
   ]
  },
  {
   "cell_type": "code",
   "execution_count": 67,
   "metadata": {},
   "outputs": [
    {
     "name": "stdout",
     "output_type": "stream",
     "text": [
      "02:00:00 Early Start With Christine Romans and Dave Briggs\n",
      "06:00:00 CNN Newsroom with Poppy Harlow and Jim Sciutto\n",
      "07:00:00 CNN Newsroom with Poppy Harlow and Jim Sciutto\n",
      "08:00:00 At This Hour With Kate Bolduan\n",
      "09:00:00 Inside Politics\n",
      "11:00:00 CNN Newsroom With Brooke Baldwin\n",
      "12:00:00 CNN Newsroom With Brooke Baldwin\n"
     ]
    }
   ],
   "source": [
    "show_lineup(CNN_shows, '2018-11-22')"
   ]
  },
  {
   "cell_type": "code",
   "execution_count": 93,
   "metadata": {},
   "outputs": [
    {
     "data": {
      "text/plain": [
       "dict_keys(['title', 'program', 'cc', 'topics', 'times', 'contributor', 'start_time', 'stop_time', 'start_localtime'])"
      ]
     },
     "execution_count": 93,
     "metadata": {},
     "output_type": "execute_result"
    }
   ],
   "source": [
    "CNN_shows[0].keys()"
   ]
  },
  {
   "cell_type": "code",
   "execution_count": 66,
   "metadata": {
    "scrolled": false
   },
   "outputs": [
    {
     "name": "stdout",
     "output_type": "stream",
     "text": [
      "7 matches\n",
      "CNN Newsroom with Poppy Harlow and Jim Sciutto 2018-11-22 06:00:00 2018-11-22 14:00:00 2018-11-22 15:00:54\n",
      "\n",
      "1 >>LOTS OF MEMBERS OF OUR EXTENDED CNN FAMILY HERE TODAY TO YOURS. ON THE COUNT OF THREE, YOU GUYS, CAN WE DO A HAPPY THANKSGIVING. ONE, TWO, THREE -- HAPPY THANKSGIVING! HAVE A GREAT HOLIDAY. \"CNN NEWSROOM\" STARTS RIGHT NOW. \n",
      "23 >>> I SHOULD HAVE BROUGHT MY KIDS TODAY, THEN. VERY GOOD MORNING TO YOU, AND A HAPPY, WARM, FOOD FILLED THANKSGIVING TO YOU. I'M JIM SCIUTTO. POPPY HAS THE DAY OFF. \n",
      "33 >>> PRESIDENT TRUMP IS SERVING UP ANOTHER HEALTHY PLATTER OF CONTEMPT THIS MORNING FOR THE U.S. COURT OF APPEALS. HE IS CALLING THAT COURT A COMPLETE AND TOTAL DISASTER, OUT OF CONTROL WITH A HORRIBLE REPUTATION, HE CLAIMS. GOING FURTHER, BEDLAM, CHAOS, INJURY AND DEATH WILL FOLLOW IF THE ANYO9th CIRCUIT KEEPS VOTIN AGAINST HIS ISSUES. THE CHIEF JUSTICE OF THE UNITED STATES OF AMERICA WHO YESTERDAY RESPONDED TO THE PRESIDENT FOR ATTACKING THE JUDGE WHO BLOCKED HIS EXECUTIVE ORDER ON ASYLUM. HE SAID THE FOLLOWING, WE DO NOT HAVE OBAMA JUDGES OR TRUMP JUDGES, JOHN ROBERTS WROTE. JUST DEDICATED JUDGES DOING THEIR LEVEL BEST TO DO EQUAL RIGHT TO THOSE APPEARING BEFORE THEM. TODAY THE ADMINISTRATION REPORTEDLY HAS A NEW PLAN FOR MIGRANTS SEEKING ASYLUM AT THE SOUTHWEST BORDER. IT IS CALLED REMAIN IN MEXICO. AND THAT JUST ABOUT SAYS IT ALL. MEANWHILE A NEW CONTROVERSY ERUPTS AROUND THE ACTING ATTORNEY GENERAL OVER CAMPAIGN CONTRIBUTIONS HE RECEIVED THIS YEAR FOR A SENATE RUN IN 2014. WHO SAYS THERE IS NO NEW NEWS ON A HOLIDAY? WE WILL DIG INTO ALL OF IT. WE THOUGHT THIS WAS A ONE-DAY BATTLE. THE PRESIDENT TOOK ANY DOUBT ABOUT THAT AWAY THIS MORNING. \n",
      "120 >> Reporter: YES, HE DID. IF YOU THOUGHT THIS WAS GOING TO BE A ONE DAY BATTLE, YOU DO NOT KNOW PRESIDENT TRUMP. EVEN THOUGH HE DIDN'T RESPOND TO THE PET'S LATEST REMARKS TONIGHT WHEN HE BLASTED HIM ON TWITTER SAYING, SORRY. PRESIDENT TRUMP RESPONDED AGAIN CALLING OUT JOHN ROBERTS ONCE AGAIN AND GOING AFTER THE 9th CIRCUIT COURT AFTER HE INITIALLY CRITICIZED THAT DECISION BECAUSE OF A DECISION THEY MADE ABOUT HIS ASYLUM CHANGES THAT HE WANTS TO MAKE. PRESIDENT TRUMP SEEMS GLAD TO BE CONTINUING THIS. IT WAS HIS FIRST MESSAGE OR HIS MESSAGE BEFORE, RIGHT BEFORE HE SENT OUT A HAPPY THANKSGIVING MESSAGE THIS MORNING TO ALL OF HIS FOLLOWERS ON TWITTER. BUT IT IS SOMETHING WE ARE SEEING THE PRESIDENT CONTINUE. THAT'S BECAUSE PEOPLE CLOSE TO THE PRESIDENT SAY WHEN SOMEONE IS CRITICIZING HIM OR HIS ADMINISTRATION, HE IS NOT GOING TO BACK DOWN. INSTEAD HE IS GOING TO DOUBLE DOWN AND CONTINUE PUSHING BACK. THAT'S NOT WHAT SOURCES CLOSE TO JOHN ROBERTS ARE SAYING. THEY DON'T EXPECT HIM TO CONTINUE THIS ARGUMENT WITH THE PRESIDENT AFTER HE OFFERED THAT VERY RARE REBUKE OF HIM IN THE FIRST PLACE. WE'LL SEE WHERE THIS GOES FROM HERE. BUT IT IS THE PRESIDENT FIGHTING WITH THE CHIEF JUSTICE OF THE SUPREME COURT ON TWITTER. \n",
      "190 >> SO KAITLYN, THERE IS NOW A PROBE OF THE ACTING ATTORNEY GENERAL MATTHEW WHITTAKER. BRIEFLY EXPLAIN WHAT IS INVOLVED IN HERE. \n",
      "201 >> Reporter: THAT'S RIGHT. MATT WHITAKER IS THE GUY WHO WAS THE CHIEF OF STAFF FOR JEFF SESSIONS, NOW THE ACTING ATTORNEY GENERAL AT THE JUSTICE DEPARTMENT. HE IS NOW HAVING AN INVESTIGATION LOOKED INTO HIM BECAUSE A WATCHDOG GROUP FILED SOME COMPLAINTS WITH THE OFFICE OF THE SPECIAL COUNSEL THAT IS SEPARATE FROM THE SPECIAL COUNSEL THAT IS ROBERT MUELLER THAT IS INVESTIGATING RUSSIAN INTERFERENCE IN THE ELECTION. BUT THEY HAD FILED THIS COMPLAINT AGAINST HIM ALLEGING THEY BELIEVE HE COULD HAVE VIOLATED THE HATCH ACT. IT PROHIBITS FEDERAL EMPLOYEES FROM ACCEPTING POLITICAL CONTRIBUTIONS. THEY SAY THEY BELIEVE MATT WHITAKER MAY HAVE DONE THAT BECAUSE OF SOME DONATIONS MADE TO A COMMITTEE WHEN HE RAN FOR SENATE IN 2014. HE LOST. DID NOT WIN THAT. BUT THOSE WERE CONTRIBUTIONS THAT WERE MADE WHEN HE WAS IN THE CHIEF OF STAFF FOR THE ATTORNEY GENERAL. AND THEY ARE CAUSING SOME SCRUTINY FOR THAT, AND THEY ARE LOOKING INTO THAT AND WHETHER THAT GOES FORWARD JUST SHOWS THIS RENEWED SCRUTINY ON MATT WHITAKER NOW THAT HE IS LEADING THE JUSTICE DEPARTMENT. \n",
      "256 >> THAT OF COURSE RAISES QUESTIONS ABOUT HOW WELL HE WAS VETTED. THANKS VERY MUCH. WITH ME NOW, CNN POLITICAL COMMENTATOR JOE LOCK HART AND CNN LEGAL ANALYST. THANKS FOR COMING IN ON THIS THANKSGIVING HOLIDAY. WE WILL DRAW ON YOUR WISDOM AND LET YOU GO HOME TO YOUR FAMILIES. IF I COULD START WITH YOU, ALISON. THIS TREND OF ATTACKING INSTITUTIONS BY THIS PRESIDENT CERTAINLY NOT NEW. BUT EXPANDING. I MEAN, WITHIN THE LAST WEEK, ADAM SCHIFF, DEMOCRAT, ADMIRAL BILL McRAVEN, JOHN ROBERTS, REPUBLICAN APPOINTEE AND CHIEF JUSTICE OF THE SUPREME COURT. YOU ADD TO THAT THE PRESIDENT'S PAST ATTACKS ON THE DEPARTMENT OF JUSTICE, THE FBI, WHO IS PUSHING BACK AGAINST THIS PRESIDENT AS HE SEEKS TO ATTACK THESE INSTITUTIONS, IN EFFECT SAYING THAT IF YOU ARE NOT ON MY SIDE, SOMEHOW YOU ARE NOT DOING YOUR JOB. \n",
      "314 >> WELL, YOU MAY WANT TO ADD THE MEDIA ON THAT LIST AS WELL, JIM. BUT, LOOK, CLEARLY NO ONE IS PUSHING BACK. AND I WOULD IMAGINE IF THEY DID IT WOULD GO WITHOUT ANY TYPE OF RESPONSE FROM THE PRESIDENT. HE IS GOING TO ATTACK THOSE WHO ATTACK HIM, WHO ARE CRITICAL OF HIM AND WHO DON'T SUPPORT HIS POLICY. THAT'S THE WAY HE WAS DURING THE CAMPAIGN. THAT'S THE WHY HE WAS DURING THIS ADMINISTRATION. MY CONCERN IS THOSE PEOPLE THAT YOU MENTIONED AND OTHERS THAT HE DOES ATTACK CERTAINLY DEMOCRAT OPPONENTS, WHEREAS HE EMBRACES AND STANDS BEHIND BRUTAL DICTATORS, THAT'S WHERE THE CONCERN IS. IT RAISES QUESTIONS AS TO WHO HE FEELS IS SOMEONE THAT IS WORTHY OF HIS SCORN AND CRITICISM AND WHO HE FEELS IS SOMEONE THAT NEEDS TO BE PROTECTED. THAT IS WHERE THERE IS GREAT CONCERN. \n",
      "370 >> I WONDER IF WE AS A COUNTRY SOMETIMES ARE THE FROG IN THE BOILING POT OF WATER. THE TEMPERATURE IS RISING BUT BECAUSE EVERY DAY THERE IS SOMETHING YOU'RE LIKE, DOES THIS ONE REALLY MATTER, DOES THIS ONE REALLY MATTER. BUT TAKEN TOGETHER, IT IS IMPORTANT TO CONNECT THE DOTS FOR PEOPLE THAT THE PRESIDENT RAISED REAL QUESTIONS THAT IS UNDERMINING SOME AMERICANS CONFIDENCE IT APPEARS IN ALL THESE INSTITUTIONS. \n",
      "394 >> NO. I THINK WE GET CAUGHT UP IN THE PERSONALITY AND EXAMINING WHY TRUMP IS DOING THIS. THERE IS REALLY DANGEROUS STUFF GOING ON HERE. IF YOU LOOK BACK JUST TO THE MIDDLE OF THE LAST CENTURY, YOU HAD DICTATORS MOVING FORWARD, AND YOU HAD PEOPLE APPEASING THOSE DICTATORS, HITLER AND MUSILENNI. IF HE DOESN'T NEGOTIATE PEOPLE, HE DEMEANS THEM. I THINK IT IS VERY SCAREY. RIGHT NOW, THE REPUBLICAN LEADER IS APPEASING THE PRESIDENT. THERE IS NO OTHER WORD FOR IT. IT IS DANGEROUS WHEN THIS ISN'T JUST ABOUT TRUMP. WE MAY COME OUT OF THIS TRUMP ERA HOPEFULLY IN JUST ANOTHER TWO YEARS WITH A COUNTRY THAT NO LONGER BELIEVES IN THE MEDIA, NO LONGER BELIEVES IN THE JUDICIARY, NO LONGER BELIEVES IN THE JUSTICE DEPARTMENT, NO LONGER BELIEVES IN THE INTELLIGENCE COMMUNITY. THAT IS RIGHT BEFORE AUTHORITARIANISM. WE DO HAVE TO STEP BACK FROM THE DAILY TWEETING AND WHAT HIS STAGE IS. HE SAID IT AT THE CONVENTION. WE LIVE IN A DARK WORLD AND ONLY I CAN SAY THIS. IT DOESN'T SOUND LIKE A DEMOCRATIC PRESIDENT. \n",
      "471 >> I WANT TO ASK YOU THIS WITH JOHN ROBERTS. YOU HAVE THE CHIEF JUSTICE. BUT ALSO SOMEONE WHO IS VERY CONSCIOUS OF THE COURT'S REPUTATION AND IT'S STANDING IN AMERICAN SOCIETY. THAT APPEARS TO BE HIS MOTIVATION BEHIND THIS RARE STATEMENT CONTRADICTING THE PRESIDENT HERE. HE'S NOT SOMEONE TO HOLD GRUDGES, BUT I WONDER IF THE PRESIDENT'S ATTACK ON HIM COULD BACKFIRE, THAT IN THESE MANY CONSEQUENTIAL DECISIONS COMING BEFORE THE COURT, MANY OF WHICH MIGHT BE A FIVE-FOUR KIND OF DECISION, THAT THIS JUSTICE IS ONE WHO MIGHT BE MOTIVATED TO MAKE A STAND FOR THE COURT'S PERCEPTION OF NOT BEING PARTISAN THAT SETS YOU UP FOR LOSING FROM THE TRUMP ADMINISTRATION PERSPECTIVE SOME OF THESE CASES. DO YOU SEE WHERE I'M GOING WITH THAT? \n",
      "522 >> YEAH. ALTHOUGH NOT CERTAIN WITH JOHN ROBERTS. I THINK FUNDAMENTALLY HE IS A CONSTITUTIONAL CONSERVATIVE, AND I THINK THAT HE WILL RULE ON CASES BEFORE HIM BASED ON THE LAW IN FRONT OF HIM, NOT THE POLITICS OF THE SITUATION IN WHICH HE FINDS HIMSELF, WHICH IS REALLY IN SOME SENSE UNTENABLE FOR HIM. BUT IT COULD BE HE FINDS A WAY LIKE WITH THE UPHOLDING OF THE OBAMA CARE DECISION TO LOOK FOR A LEGAL WAY TO UPHOLD IT FOR POLITICAL END. I DON'T EXPECT THAT. BUT TO THE POINT THAT YOU ARE RAISING, JIM, IT IS POSSIBLE THAT HE'S SO DISGUSTED WITH WHAT'S GOING ON HERE THAT HE LOOKS FOR ALTERNATIVES. \n",
      "561 >> LET'S TALK ABOUT THE LATEST CHALLENGE TO MATT WHITAKER. THIS ONE HERE FOR FOLKS AT HOME WHO AREN'T FOLLOWING, AN OBSCURE CAMPAIGN LAW. DID HE TAKE CAMPAIGN CONTRIBUTIONS WHEN HE HELD ANOTHER ROLE IN GOVERNMENT. ARE YOU CONCERNED THAT ALL THESE QUESTIONS CIRCLING AROUND MATT WHITAKER UNDERMINE HIS FUTURE AS THE ACTING ATTORNEY GENERAL? \n",
      "589 >> I THINK HE AND EVERYONE REALIZED ONCE HIS NAME WAS ANNOUNCED IN HIS POSITION, HE WAS GOING TO FACE TREMENDOUS SCRUTINY. IT IS A BIG POSITION. IT IS A CRITICAL TIME IF OUR NATION. BUT AS FOR THIS CURRENT PROBE WITH REGARD TO THE HATCH ACT, AS SOMEONE WHO HAS BEEN ON MANY CAMPAIGNS, IT IS NOT UNUSUAL TO WORK YEARS LATER TO TRY AND RETIRE A CAMPAIGN DEBT, WHICH IS WHAT'S GOING ON HERE. HE HAD ABOUT $50,000 IN OUTSTANDING DEBT AND MUCH OF WHICH HE DONATED HIMSELF AND SOMEONE STEPPED UP AND MADE A CONTRIBUTION TO HELP RETIRE THAT DEBT. THE QUESTION WILL REMAIN AND HIS TREASURER SAYS HE DIDN'T ASK FOR IT. I WOULD LIKE TO THINK THAT WE'LL BE ABLE TO INVESTIGATE THIS. IF THERE IS ANYTHING THAT'S UNTHWART, I WOULD ASSUME THE RIGHT THING WOULD BE TO PAY THE MONEY BACK. IT IS A VALID CONCERN GIVEN THE IMPORTANT POSITION HE'S IN NOW. BUT I'M SURE IF THEY FIND SOMETHING THAT NEEDS TO BE CORRECTED, HE WILL DO SO. \n",
      "646 >> DO YOU THINK THESE ARE CORRECTABLISH YE ISSUES WITH TH ACTING ATTORNEY GENERAL, OR ARE THEY ONES THE DEMOCRATS ARE NOT GOING TO LET GO OF? \n",
      "656 >> YEAH. I THINK IT REPRESENTS A PATTERN. YOU KNOW, I THINK IT'S NOT A STRETCH TO SAY THAT HE'S NOT FIT TO BE THE ACTING ATTORNEY GENERAL, MUCH LESS THE ATTORNEY GENERAL. THERE IS A NUMBER OF CONVERSATIONS THAT WENT ON WITH THE PRESIDENT BEFORE HE WAS ELEVATED WITH WHAT HE WAS DOING THERE OVER THE OBJECTIONS OF ATTORNEY GENERAL SESSIONS. SO I DON'T EXPECT THAT THIS PARTICULAR HATCH ACT VIOLATION IS WHAT WILL BRING HIM DOWN. I THINK IT'S THE OVER ALL. TAKING A STEP BACK, THIS IS ALL ABOUT THE PRESIDENT TRYING TO IMPEDE THE MUELLER INVESTIGATION. BY PUTTING SOMEONE CLEARLY NOT QUALIFIED, SOMEONE WHO WILL FOLLOW HIS MARCHING ORDERS AND SOMEONE WHO LIKELY WHEN BOB MUELLER SAYS I NEED TO TALK TO THE PRESIDENT, I WANT A SUBPOENA, IS LIKELY TO TELL THE PRESIDENT AND THE PRESIDENT WILL HAVE VETO POWER OVER THAT. THAT VIOLATES EVERY TENANT OF WHAT THE SPECIAL COUNSEL'S OFFICE IS SUPPOSED TO BE ABOUT. \n",
      "723 >> SO, MICHAEL, WHAT IS HOLDING THE PRESIDENT BACK ABOUT THIS? WE TALKED ABOUT A SATURDAY NIGHT MASSACRE IN SLOW MOTION THAT THE PRESIDENT HAS INSTALLED AS ATTORNEY GENERAL AND AS THE OVERSEER IN FACT MUELLER INVESTIGATION IN WHICH THE PRESIDENT IS INVOLVED, A FRIENDLY ACTOR HERE. WHAT STANDS IN THE WAY OF THAT REMAINING THE REALITY? \n",
      "744 >> DEMOCRATIC HOUSE THAT MAY BY AND LARGE BE IMPEACHED FOR ABUSE OF POWER. \n",
      "752 >> AGAINST THE PRESIDENT? \n",
      "753 >> YEAH, SURE. BECAUSE IF WHAT THEY HAVE DONE HERE IS A SLOW MOTION SATURDAY NIGHT MASSACRE. THAT IS, THEY HAVE PUT IN A PERSON WHO WILL NOW TRY TO CAP DATE THE WORK OF THE SPECIAL DOWN SO THAT HE CANNOT PROCEED TO A CONCLUSION, THAT HAS TO BE REPORTED TO THE HOUSE JUDICIARY AND SENATE JUDICIARY AND SENATE INTELLIGENCE FOR INQUIRY. IF THEY FIND THAT IN THE COURSE OF THAT INQUIRY THAT THIS WAS DONE FOR THE PURPOSE OF INTERFERING WITH HIS INVESTIGATION, THAT'S AN ABUSE OF OFFICE, THAT INQUIRY. SO I THINK THAT'S WHAT SHOULD BE HOLDING HIM BACK. THAT'S WHAT McGAHN TOLD HIM WHEN HE SAID HE WANTED TO BRING CHARGES AGAINST COMEY AND HILLARY CLINTON JUST THE OTHER WEEK WE LEARNED THAT. AND McGAHN SAID YOU CAN DO THAT CONSTITUTIONALLY, BUT YOU RUN THE RISK OF ABUSING YOUR OFFICE AND ARTICLES OF IMPEACHMENT COULD FOLLOW. I THINK THAT'S THE BIGGEST GOVERNOR ON HIS BEHAVIOR. \n",
      "813 >> IT IS A HIGH BAR. THE MOST IMPORTANT THING THAT HAPPENED THIS MORNING -- WAS THAT YOU, JOE? I HEARD A DOG IN THE BACKGROUND. \n",
      "822 >> THAT WAS MY DOG. \n",
      "823 >> HE WANTED TO PIPE IN ON THE DISCUSSION? DID HE HAVE ANY WISDOM HE COULD TRANSLATE FOR THE PANEL? \n",
      "830 >> I THINK HE AGREES WITH EVERYTHING I SAY. \n",
      "833 >> SMART DOG. \n",
      "834 >> HE'S WAITING FOR SOME LEFTOVERS. JIM, IF I COULD QUICKLY SAY. \n",
      "839 >> PLEASE. \n",
      "840 >> NOT ONLY IS THE PRESIDENT GETTING LEGAL ADVICE TO MAKE SURE AND NOT OBSTRUCT THE MUELLER INVESTIGATION. WHEN YOU TRAVEL AROUND IN THE MIDTERM ELECTIONS, A LOT OF HIS BASE AND REPUBLICAN VOTERS SAY THEY WANT TO MAKE SURE THAT NOTHING IS DONE TO STOP MUELLER AND WHAT HE IS DOING IN HIS INVESTIGATION. AND THE PRESIDENT KNOWS THAT. HE UNDERSTANDS THERE WILL BE SOME PUSHBACK FROM HIS BASE IF WE WERE TO DO ANYTHING. SO I DON'T EXPECT ANYTHING ON HIS PART RELATED TO SATURDAY NIGHT MASSACRE BECAUSE HE UNDERSTANDS THERE WILL BE SOME CONSEQUENCES. \n",
      "871 >> VERY HAPPY THANKSGIVING TO ALL OF YOU. \n",
      "874 >> YOU, TOO. \n",
      "875 >> THANKS FOR COMING IN. \n",
      "877 >>> WELL, THE 92nd ANNUAL MACY'S THANKSGIVING DAY PARADE IS WINDING THROUGH THE STREETS OF NEW YORK CITY RIGHT NOW. IT IS BITTER COLD, BUT THAT DIDN'T KEEP MILLIONS OF PEOPLE FROM LINING THE PARADE ROUTE TO GET A FRONT ROW SEAT TO ALL OF THOSE BALLOONS AND MARCHING BANDS. THIS IS HOW I SPENT MY CHILDHOOD, FREEZING MY TAIL OFF OUT THERE. IT WAS ALWAYS WORTH IT. WHAT IS THE BEST BALLOON THIS YEAR? \n",
      "901 >> WELL, THE ONE THAT'S RIGHT BEHIND US IS CHASE FROM PAW PATROL. JOE'S DOG HAS NOTHING ON THIS ONE. THEY ARE KEEPING THEM VERY LOW TO THE GROUND BECAUSE THERE ARE SOME WINDS, BUT THEY ARE FLYING. SO FAR SO GOOD. AND THEY WILL WATCH THE WIND AS THEY PROGRESS DOWN THE CITY HERE. BUT PEOPLE ARE ALL OVER THE PLACE. I HAVE FOLKS HAVE FINLAND OVER HERE. PEOPLE FROM LAS VEGAS. WHAT ARE YOU GUYS THANKFUL FOR TODAY? \n",
      "930 >> OH, MY SON, MY FAMILY. \n",
      "932 >> BEING ABLE TO COME HERE. \n",
      "933 >> IT IS A VERY GREAT OPPORTUNITY. \n",
      "936 >> AND YOU ARE FROM VIRGINIA. \n",
      "937 >> I'M THANKFUL TO THE TROOPS OVERSEAS AND MAKING IT HOME TO THEIR FAMILIES. \n",
      "942 >> AND IT IS INCREDIBLE. THEY WEREN'T SURE -- OH, HERE COMES THE CLOWNS. HELLO, CLOWNS. HOW ARE YOU? \n",
      "950 >> GREAT! HAPPY THANKSGIVING! \n",
      "952 >> THERE ARE OVER 1,000 CLOWNS THAT ARE HERE TODAY. JUST HUGE AUDIENCES. EVERYBODY EXCITED FOR THIS? [ APPLAUSE ] \n",
      "967 >> Reporter: AND SO FAR SO GOOD. THEY WILL WATCH WIND CONDITIONS. IT IS VERY COLD OUT HERE, BUT SOME THREE MILLION PEOPLE COMING OUT. THE COLD NOT STOPPING ANYONE. JIM? \n",
      "979 >> WELL, I'M THANKFUL FOR HAVING YOU OUT THERE. IT BRINGS BACK MEMORIES FROM BEING A KID. I SEE THE PILLSBURY DOUGH BOY. \n",
      "992 >> Reporter: I FEEL LIKE A KID BEING OUT HERE. IT'S GREAT. \n",
      "995 >> KEEP ON TOP OF IT. THANKS VERY MUCH. \n",
      "1000 >>> SAUDI ARABIA'S FOREIGN MINISTER IS USING PRESIDENT TRUMP'S STATEMENT TO DOWN PLAY THE CI A's REPORT ON A JOURNALIST'S MURDER. WE WILL HAVE THE LATEST. \n",
      "1008 >>> PLUS, THE DEATH TOLL NOW 83 DEAD IN CALIFORNIA'S CAMPFIRE. LOOK AT THOSE SCENES THERE. ALMOST ONE MILLION PEOPLE ARE UNDER A FLASH FLOOD WATCH IN THE REGION BECAUSE UP TO SIX INCHES OF RAIN EXPECTED TODAY. WE'RE ON TOP OF THAT STORY. \n",
      "1024 >>> ALSO, CONTROVERSY OVER CRANBERRIES. TURKEY AND POLITICAL TALK DON'T ALWAYS MIX. WE'RE GOING TO TELL YOU HOW TO HANDLE IT. le believes it's betto give than to receive. James may disagree (scream) Join T-Mobile and get the Samsung Galaxy S9 free. ♪ Bum-bum-bum-bum-bum Introducing E*TRADE Personalized Investments professionally managed portfolios customized to help meet your financial goals. You'll know what you're invested in and how it's performing. So you can spend more time floating about on your inflatable swan. [DING] Now you can, with ShipSticks.com! No more lugging your clubs through the airport or risk having your clubs lost or damaged by the airlines. Sending your own clubs ahead with ShipSticks.com makes it fast & easy to get to your golf destination. With just a few clicks or a phone call we'll pick up and deliver your clubs on-time, guaranteed, for as low as $39.99. ShipSticks.com saves you time and money. Make it Simple. Make it Ship Sticks. It's why we focus only on headaches. Nothing works faster. We see your pain and what's possible without it. Excedrin Extra Strength. We see your pain and what's possible without it. If you're waiting patiently for a liver transplant, it could cost you your life. It's time to get out of line with UPMC. At UPMC, living-donor transplants put you first. So you don't die waiting. UPMC does more living-donor liver transplants than any other center in the nation. Find out more and get out of line today. . \n",
      "165 >>> SAUDI ARABIA IS USING PRESIDENT TRUMP'S OWN WORDS TO CAST DOUBT ON THE CIA HIGH CONFIDENCE ASSESSMENT THAT THE SAUDI CROWN PRINCE ORDERED THE MURDER OF JAMAL KHASHOGGI, ARGUE GUING THAT U.S. INTEL IS UNRELIABLE, POINTING TO THESE REMARKS BY THE U.S. PRESIDENT. \n",
      "184 >> THE CIA HAS LOOKED AT IT. THEY HAVE STUDIED IT A LOT. THEY HAVE NOTHING DEFINITIVE. AND THE FACT IS MAYBE HE DID. MAYBE HE DIDN'T. \n",
      "194 >> WHOSE SIDE IS THE PRESIDENT TAKING HERE, SAUDI ARABIA'S OR THE U.S.'S? LET'S DISCUSS. SO SAMANTHA, QUITE A MOMENT HERE, AND I IMAGINE PREDICTABLE. THE PRESIDENT UNDERMINES U.S. INTELLIGENCE AGENCIES BY QUESTIONING THEIR HIGH CONFIDENCE ASSESSMENT, WHICH IS AS HIGH CONFIDENCE OR AS DEFINITIVE AS INTELLIGENCE ASSESSMENTS GET. AND THE SAUDIS PARROT THAT BACK. HOW MUCH OF A PROBLEM IS THAT FOR THE U.S.? \n",
      "220 >> IT IS A PROBLEM, JIM, BECAUSE INTELLIGENCE ON TO ITSELF DOESN'T MAKE POLICY. INTELLIGENCE IS GEARED TOWARD ITS NUMBER ONE CUSTOMER. THAT IS TYPICALLY THE PRESIDENT OF THE UNITED STATES. IF THE PRESIDENT CHOOSES NOT TO INTEGRATE IT INTO A POLICY PROCESS, THE BUCK REALLY STOPS WITH HIM. AND THE ISSUE, JIM, IS WE MIGHT SEE A VERY PUBLIC DIVIDE OVER THE COMING WEEKS BETWEEN THE UNITED STATES AND CIVSEVERAL OT ALLIES. COUNTRIES HAVE COME TOGETHER TO HOLD SAUDI ARABIA ACCOUNTABLE FOR THE MURDER OF JAMAL KHASHOGGI. WE HAD DENMARK ANNOUNCE THEY ARE CUTTING OFF ARMS SALES. MACRON IS LOOKING AT SANCTIONS AS WELL. IT MAY VERY QUICKLY TURN INTO A CASE OF WARRING ASSESSMENTS OF WHAT DID OR DID NOT HAPPEN. WE WILL HAVE THE PRESIDENT OF THE UNITED STATES ON ONE SIDE SIDING WITH SAUDI ARABIA. AND THEN OUR OTHER ALLIES, THE ONES THAT DON'T MURDER AMERICAN RESIDENTS AND JOURNALISTS ON THE OTHER. \n",
      "278 >> THE THING IS THE FACTS ARE ON ONE SIDE HERE. THE EVIDENCE, THE U.S. INTELLIGENCE AGENCIES THAT YOU AND I KNOW ARE CONSERVATIVE IN MAKING ASSESSMENTS. BUT THEY WERE HIGH CONFIDENCE HERE, WHICH LEADS YOU TO BELIEVE THAT THEY HAD THE GOODS TO PLACE BLAME ON THE SAUDI CROWN PRINCE. \n",
      "298 >> YES. LET ME JUST BE VERY CLEAR. I WORKED AT THE INTELLIGENCE COMMUNITY FOR MANY YEARS, VARIOUS PARTS OF THE INTELLIGENCE COMMUNITY. THERE ARE NO MAYBES IN INTELLIGENCE ASSESSMENTS, PARTICULARLY HIGH CONFIDENCE ONES. WHAT A HIGH CONFIDENCE ASSESSMENT NEEDS IS THAT VARIOUS PARTS OF THE INTELLIGENCE COMMUNITY, VARIOUS GOVERNMENT AGENCIES AGREE WITH THAT ASSESSMENT BASED UPON THE KINDS OF INTELLIGENCE THAT THEY'RE INTEGRATING INTO THAT ASSESSMENT. PERHAPS A PHONE CALL THAT'S INDISPUTABLE AND OTHER BITS OF INTEL THAT COMES IN. IT MEANS THERE IS VERY LITTLE DOUBT. SO THIS BEING A HIGH CONFIDENCE ASSESSMENT TYPICALLY WOULD ENCOURAGE THE PRESIDENT OF THE UNITED STATES IN THE FIRST INSTANCE TO TAKE IT SERIOUSLY. AND IN THE SECOND TO USE IT TO INFORM POLICY DECISIONS AND REALLY TO PRIORITIZE WHICH EQUITIES HE IS PAYING ATTENTION TO. SO THE PRESIDENT TWEETED EARLIER THIS MORNING ABOUT OIL AND JOBS BEING PARAMOUNT. WELL, TYPICALLY YOU'D HAVE THE PRESIDENT REALLY PLACE THE PHYSICAL SECURITY OF AMERICAN RESIDENTS LIKE JAMAL KHASHOGGI ABOVE OIL AND JOBS. \n",
      "362 >> ANOTHER HIGH CONFIDENCE ASSESSMENT IS THAT PRESIDENT TRUMP UNDERMINES QUESTIONS, RUSSIAN INTERFERENCE IN THE U.S. ELECTION. \n",
      "370 >> AND PUTIN LIKES TO PARROT THAT AROUND AS WELL. \n",
      "373 >> THE PUBLISHER IN \"THE WASHINGTON POST,\" OF COURSE THAT THE PUBLICATION THAT JAMAL KHASHOGGI WROTE FOR, HE RESPONDED AGAIN TO THE PRESIDENT VERY STRONGLY WORDED COLUMN. AND I WANT TO READ SOME OF THAT. HE SAID TRUMP'S RESPONSE DOES NOT ADVANCE THE UNITED STATES INTERESTS. IT BETRAYS THEM AND PLACES THE DOLLAR VALUES OF COMMERCIAL DEALS ON RESPECTING LIBERTY AND HUMAN RIGHTS AND PERSONAL RELATIONSHIP ABOVE THE UNITED STATES STRATEGIC RELATIONSHIPS. IT'S NOT JUST ABOUT WARM AND FUZZY VALUES HERE, IS IT? IS BECAUSE BOTH REPUBLICAN AND DEMOCRATIC HAVE DETERMINED THROUGH DECADES THAT DEFENDING U.S. VALUES SERVES U.S. NATIONAL SECURITY INTERESTS. \n",
      "416 >> IT DOES. AND DONALD TRUMP IS NOT THE FIRST PRESIDENT TO CARE ABOUT OIL AND JOBS BY THE WAY. I WORKED WITH PRESIDENT OBAMA TO TALK ABOUT THEIR OIL PRODUCTION. THIS ISN'T JUST ABOUT WARM AND FUZZY VALUES. IT IS ABOUT PHYSICAL SECURITY. WE KNOW AN AMERICAN RESIDENT WAS MURDERED. THAT IS A GROSS HUMAN RIGHTS ABUSE. BUT THE PROBLEM NOW IS THE PRESIDENT OF THE UNITED STATES IS SIGNALING THAT IF YOU PUMP MORE OIL OR IF YOU WAIVE A MEMORANDUM OF INTENT ABOUT ARMS DEALS IN FRONT OF HIM, HE WILL LET A MURDER GO. FROM AN INTELLIGENCE PERSPECTIVE, I WOULD GUESS THE INTEL COMMUNITY IS TELLING THE PRESIDENT, IF HE'S LISTEN, THIS IS GOING TO ENCOURAGE MORE MURDERS TO CONDUCT MORE CRIMES JUST AS LONG AS THEY PROMISE TO SIGN A WEAPONS DEAL WITH THE UNITED STATES. THIS COULD REALLY IMPACT THE PHYSICAL SECURITY OF AMERICANS AND OTHERS AROUND THE GLOBE GOING FORWARD. \n",
      "468 >> WILL THE PRESIDENT LISTEN BASED ON PAST EXPERIENCE? UNLIKELY. THANKS VERY MUCH. \n",
      "475 >> THANKS. \n",
      "475 >>> WELL, RECORD BREAKING COLD IN THE NORTHEAST TODAY. AND NOW THE PRESIDENT SAYS WHERE IS THE GLOBAL WARMING? WE WILL FACT CHECK THAT CLAIM. a, you finished preparing him for college. In 24 hours, you'll send him off thinking you've done everything for his well being. But meningitis B progresses quickly and can be fatal, sometimes within 24 hours. While meningitis B is uncommon, about 1 in 10 infected will die. Like millions of others, your teen may not be vaccinated against meningitis B. Meningitis B strikes quickly. Be quick to talk to your teen's doctor about a meningitis B vaccine. PaI'm open to that.Medicare? Be quick to talk to your teen's doctor Lower premiums? Extra benefits? It's Open Enrollment. Time to open the laptop... ...and compare Medicare health plans. Why? Because plans change, so can your health needs. So, be open-minded. Look at everything - like prescription drug plans... Oh, and Medicare Advantage plans from private insurers. Use the tools at Medicare.gov Or call 1-800-MEDICARE. Open to something better? Start today. Open Enrollment ends December 7th. ♪ The whole world's coming together now ♪ Amazon's Black Friday Sale is on now! With deals in every department, low prices and free shipping on millions of items. The Amazon Black Friday Sale. On now! ♪ YOU HAVE A LOT OF DEADLINES IN YOUR BUSINESS, RIGHT? WE MISS DEADLINES, WE DON'T GET PAID. WHAT IF YOU LOST YOUR NETWORK CONNECTION? YOU GOTTA BE KIDDING ME. CHAOTIC. OUR GIG-SPEED NETWORK LETS YOU DOWNLOAD FILES UP TO 20 TIMES FASTER. AND WE GO BEYOND FAST WITH 4G LTE BACKUP FOR COMPLETE RELIABILITY. SO, IF YOU LOSE YOUR NETWORK CONNECTION... ♪ ♪ YOU WON'T MISS THE DEADLINES. HAVING THE CONFIDENCE OF SOMETHING THAT'S NEVER GONNA GO DOWN WOULD BE PRICELESS. RIGHT NOW, GET FAST RELIABLE INTERNET FOR A LOW PRICE. SIGN UP ONLINE AND GET A $300 PRE-PAID CARD. COMCAST BUSINESS. BEYOND FAST. \n",
      "753 >>> I LIKE TO WISH MY WIFE JEN, MY DAUGHTER MATTIE, MY SON ZACH AND THE GREAT PEOPLE OF THE UNITED STATES OF AMERICA, A HAPPY THANKS GIVING. \n",
      "765 >> REMEMBER, WE HAVE THOUSANDS OF SERVICEMEN AND WOMEN STATIONED AROUND THE WORLD TODAY. WE HOPE EVERYONE WATCHING THE PARADE IN PERSON IS BUNDLED UP BECAUSE THIS WILL BE THE COLDEST THANKSGIVING ON RECORD FOR MANY YEAR IN THE NORTHEAST. CHAD MYERS IS HERE WITH A LOOK AT THE RECORD SETTING COLD. WHAT'S GOING ON? \n",
      "786 >> CERTAINLY ANYONE IN THAT CROWD HAS NEVER SEEN A COLDER NEW YEARS, CHRISTMAS, THANKSGIVING. THIS IS A REALLY CHILLY ONE. TEMPERATURES ARE AROUND 6 DEGREES ABOVE ZERO. THE GOOD NEWS IS IT WAS NOT WINDY ENOUGH TO GROUND THE BALLOONS. THEY ARE FLYING HERE. 17 DEGREES BELOW ZERO. I JUST GOT A TWEET FROM OTTAWA. THEY SAID IT'S 25 BELOW UP HERE. THEY ARE IN THE MIDDLE OF THE DARK PURPLE THERE. ROCHESTER RIGHT NOW, YOU FEEL LIKE SIX DEGREES. COMING UP TONIGHT ANOTHER COLD NIGHT. NEW YORK CITY WILL GET ALL THE WAY DOWN TO 17 AND 20 OR SO CITIES WILL BREAK NEW RECORD LOW TEMPERATURES FOR TOMORROW MORNING. NEW YORK CITY GETS TO 17, BUT BY SUNDAY THE LOW IS 46. THIS IS THE BOTTOM. AND THEN IT STARTS TO COOL BACK. WE SHOULD BE 52 IN NEW YORK TODAY. IT IS GOING TO BE NOWHERE NEAR THAT. SO 25 DEGREES BELOW NORMAL FOR TODAY. WARMER IN DENVER, THOUGH. 61. HOW ABOUT THAT? BILLINGS 49. 22 DEGREES LOWER IN MONTANA THAN NEW YORK CITY. THIS IS WHERE WE ARE RIGHT HERE IN THE NORTHEAST UNITED STATES, IN CANADA AND ALL THE WAY UP TOWARD NEW FINLAND. BUT THE REST OF THE WORLD PRETTY WARM TODAY. WE HAVE ONE BIT OF COLD AIR THAT'S ONLY GOING TO LAST A COUPLE DAYS. WE WILL WAIT TO SEE IF IT WARMS UP BY THE REST OF THE WEEK. \n",
      "872 >> CHAD, THANKS VERY MUCH. \n",
      "874 >>> WE WANT TO TAKE A MOMENT THIS MORNING TO HIGHLIGHT THE PRESIDENT'S DELIBERATE DENIAL OF SCIENTIFIC FACT. THE PRESIDENT TWEETED YESTERDAY, BRUTAL AND EXTENDED COLD BLAST COULD SHATTER ALL RECORDS. WHATEVER HAPPENED TO GLOBAL WARMING? THE ANSWER, TWO WORDS. AVERAGE TEMPERATURES. THAT'S THE ONLY FIGURE THAT MATTERS AND AVERAGE TEMPERATURES ARE ONLY GOING UP. ACCORDING TO DATA FROM NOAH, 2018 IS ON PACE TO BE THE FOURTH HOTTEST YEAR ON RECORD. WHAT ARE THE THREE HOTTEST? \n",
      "906 >> 2015, 2016 AND 2017. SINCE RECORDKEEPING BEGAN IN 1880, THE FOUR HOTTEST YEARS ON RECORD ARE THE LAST FOUR YEARS. THOSE RISING AVERAGE TEMPERATURES HAVE AN IMMEDIATE INTANGIBLE EFFECT ON OUR LIVES. A CLIMATE SCIENTIST AND DIRECTOR TOLD CNN EARLIER THIS YEAR, QUOTE, WE WERE SEEING THEM PLAY OUT IN REALTIME IN THE FORM OF UNPRECEDENTED HEAT WAVES. DROUGHTS AND WILD FIRES, AND WE HAVE SEEN THEM ALL. NOTING A COLD SNAP IN THE MIDST OF THAT RISE IS SILLY. NOT AS SILLY AS BRINGING A SNOWBALL ON TO THE SENATE FLOOR DURING ONE OF THE PREVIOUS YEARS ON RECORD TO QUESTION THE HARD DATA OF A WARMING EARTH, WHICH YOU MAY REMEMBER IS EXACTLY WHAT A REPUBLICAN SENATOR, THEN CHAIRMAN OF THE SENATE'S ENVIRONMENT AND PUBLIC WORKS COMMITTEE DID IN 2015. DON'T BELIEVE THE TWEETS. DON'T BELIEVE THE STUNTS. FOCUS ON TWO WORDS: AVERAGE TEMPERATURES, AND THEY ARE RISING. \n",
      "970 >>> A NEW WARNING FROM AN IRANIAN GENERAL AS TENSIONS MOUNT. U.S. BASES ARE SOFT TARGETS? WE'RE GOING TO TAKE A LOOK. Our Big Idaho Potato Truck is out there somewhere and we're going to find it. Awe man. Always look for the Grown in Idaho Seal. No o♪eNo one gonna love you so trueo ♪ ♪ ♪ And I don't believe that anybody ♪ ♪ Feels the way I do for you ♪ ♪ Dare to be devoted. Jared. A moment of joy. A source of inspiration. An act of kindness. An old friend. A new beginning. Some welcome relief... Or a cause for celebration. ♪ What's inside? ♪ [laughter] Possibilities. What we deliver by delivering. \n",
      "1222 >>> THIS MORNING AS TENSIONS BETWEEN THE U.S. AND IRAN RISE, A SHARP WARNING TO THE U.S. HE IS CALLING AMERICAN BASES NEAR IRAN SOFT TARGETS FOR THEIR MISSILES. HE ALSO SAID AIRCRAFT CARRIERS IN THE REGION ARE LIKE, QUOTE, SHOOTING TARGETS. PENTAGON REPORTER BARBARA STAR IS FOLLOWING THE LATEST THERE. WHAT BASES AND ASSETS ARE IN THE REGION THAT COULD BE VULNERABLE TO IRANIAN MISSILES. \n",
      "1251 >> LET'S TALK ABOUT WHAT IS A SOFT TARGET. YOU THINK OF A SHOPPING MALL OR A SPORTS ARENA IS NOT DEFENDED. THERE ARE U.S. TROOPS IN KUWAIT, IN QUATAR, IN DUBAI AND THOSE U.S. NAVY SHIPS THAT GO UP AND DOWN THE PERSIAN GULF WATERS ALL THE TIME. THERE ARE PATRIOT MISSILES IN VARIOUS AREAS OF THIS MIDDLE EAST REGION. SO WHEN YOU LOOK AT THE IRANIANS, YOU HAVE TO LOOK AT CAPABILITIES. DO THEY HAVE THE CAPABILITY TO STRIKE OUT WITH THEIR MISSILES? PROBABLY THEY DO. CAN THE U.S. DEFEND? YES. COULD THEY GET THROUGH WITH A SINGLE MISSILE? THEY COULD PERHAPS, BUT IT IS THE INTENTIONS. WHY ARE THE IE RYRANIANS SAYING THIS? DO THEY HAVE ANY REASONABLE INTENTION, IF YOU WILL, OF STRIKING THE UNITED STATES? RIGHT NOW I THINK MOST U.S. MILITARY EXPERTS WOULD TELL YOU THEY DON'T SEE IT THAT WAY, BUT THEY WATCH ALL THE TIME. JIM? \n",
      "1319 >> WHAT EXPECTATION OF AN ENORMOUS U.S. MILITARY RESPONSE. ANOTHER ISSUE. RETURNING TO AFGHAN, REALLY A DISTURBING PHOTO OR A STRIKING ONE EMERGED AT THE TOP U.S. GENERAL IN AFGHANISTAN WALKING TO A MEETING THERE, CARRYING A WEAPON. I BELIEVE THAT'S AN M-4 ASSAULT RIFLE. WHAT DOES THAT SAY ABOUT SECURITY IN AFGHANISTAN TODAY? \n",
      "1342 >> AN EXTRAORDINARY PHOTO. LET'S PUT IT UP. THAT IS GENERAL SCOTT MILLER, THE HEAD OF U.S. AND NATO FORCES IN AFGHANISTAN. HE IS CLUTCHING A FULLY LOADED M-4 ASSAULT RIFLE. THIS IS NOT WHAT YOU TYPICALLY SEE THE TOP COMMANDER DOING. HIS SECURITY PERSONNEL, WHO HAVE TO PROTECT HIM, AROUND HIM, THEY ARE FULLY ARMED. BUT GENERAL MILLER WAS, OF COURSE, IN THE MIDDLE OF A FIRE FIGHT ESSENTIALLY LAST MONTH, SO THERE IS CONCERN ABOUT THESE INSIDER ATTACKS, CONCERNS ABOUT THESE AREAS OF AFGHANISTAN WHERE THE TALIBAN IS RESURGENT. AGAIN MA HE IS A LONG DECORATED COMBAT VETERAN. HE IS SENDING THE MESSAGE HE WILL GO ANYWHERE HE WANTS TO GO AND HE WILL PROTECT HIMSELF AND OTHER AFGHANS AROUND HIM. \n",
      "1395 >> QUITE A STATEMENT ABOUT THE STATE OF SECURITY THERE 17 YEARS LATER. THANKS VERY MUCH. \n",
      "1401 >> SURE. \n",
      "1401 >>> WILL THE OLDEST SURVIVOR OF THE ATTACK ON PEARL HARBOR IN 1941 HAS DIED. HE WENT ON TO SERVE ON A TRANSPORT SHIP. IN MAY, HE LE FLEREFLECTED ON H SERVICE IN AN INTERVIEW WITH CNN. \n",
      "1425 >> NEVER GIVE IT AWAY OF WHAT YOU SEE AND HEAR. THAT'S THE WAY I AM. I REMEMBER. AND THEN I FORGET AND REMEMBER AGAIN BECAUSE IT'S VERY IMPORTANT THAT THE YOUNGER GENERATION KNOW AND LEARN. I WOULD DO IT AGAIN IF I WAS CALLED TO. \n",
      "1454 >> THE LAST SURVIVOR NOW PASSED AWAY, 106 YEARS OLD. \n",
      "1458 >>> I WANT TO GO TO LIVE PICTURES. THESE ARE PRESIDENT TRUMP IN A VIDEO CONFERENCE LONG DISTANCE WITH U.S. TROOPS STATIONED ABROAD. LET'S HAVE A LISTEN. \n",
      "1469 >> OVER IN THE UNITED STATES, AS YOU KNOW AND YOU ARE CELEBRATING IT IN ALL PARTS OF THE WORLD AND WE WILL BE TALKING ABOUT IT INDIVIDUALLY. WE WILL HONORED TO BE JOINED BY GREAT PATRIOTS. YOU ARE REALLY GREAT PATRIOTS REPRESENTING EACH BRANCH OF THE ARMED SERVICES. MELANIA AND I WANT TO EXPRESS OUR GRATITUDE FOR THE SACRIFICES YOU MAKE TO DEFEND YOUR NATION WHILE YOU ARE AWAY FROM YOUR FAMILY AND LOVED ONES. I HOPE YOU WILL TAKE SOLACE IN KNOWING THAT ALL OF THE AMERICAN FAMILIES THAT YOU HOLD CLOSE TO YOUR HEART WE'RE ALL DOING WELL. THE NATION IS DOING WELL ECONOMICALLY, BETTER THAN ANYBODY IN THE WORLD. WE ARE THE HOT NATION OF THE WORLD. NICE TO KNOW YOU ARE FIGHTING FOR SOMETHING THAT'S DOING WELL, AND THAT'S OUR COUNTRY. I WANT TO BEGIN BY WELCOMING THE MEN AND WOMEN OF THE 101st AIRBORNE DIVISION. THEY'RE REAL WARRIORS, AND YOU HAVE THE RESOLUTE SUPPORT, SUSTAINMENT BRIGADE, AND THEY ARE JOINING US FROM AFGHANISTAN WHERE OUR SOLDIERS ARE PROVIDING INVALUABLE AID AND COMBINED JOINT AREA OPERATIONS THROUGHOUT AFGHANISTAN. YOU ARE DOING AN INCREDIBLE JOB. A LOT OF PROGRESS HAS BEEN MADE AND YOUR COURAGE TRULY INSPIRES US ALL. WE KNOW WHAT YOU ARE DOING. WE WATCH IT. OFTENTIMES WE ARE WATCHING IT EVERY NIGHT DURING THE NEWS, AND WE KNOW IT IS DANGEROUS, AND WE ALSO KNOW THAT YOU HAVE AN UNBELIEVABLE IMPACT. JOINING US FROM KUWAIT IS THE CENTRAL COMMAND FIRST RESPONSE AND CRISIS RESPONSE SPECIAL PURPOSE MARINE AIR GROUND TASK FORCE. LIEUTENANT KERNEL SAM HOWIE, YOU ARE THE EMBODIMENT OF HONOR AND COURAGE. IT IS INCREDIBLE THE JOB YOU ARE DOING. I WANT TO CONGRATULATE YOU ON THE JOB YOU HAVE DONE TO CRUSH ISIS ON THE GROUND AND AIR. REALLY, IT IS A BIG, BIG PROGRESS HAS BEEN MADE. THEY'RE VERY CLOSE TO BEING GONE, AND WE LIKE IT THAT WAY. BUT YOU HAVE SHOWN INCREDIBLE COURAGE, AND I HAVE TO SAY YOU HAVE SHOWN GREAT, GREAT LEADERSHIP. SO THANK YOU VERY MUCH AND LIEUTENANT KERNEL THANK YOU VERY MUCH AND WE'LL BE TALKING WITH YOU IN A LITTLE WHILE. HAPPY THANKSGIVING VERY WELL TO ALL OF THE SAILORS ABOARD THE \"U.S.S. RONALD REAGAN.\" WE HAVE THAT MOTTO AT HOME. IT IS AN ENSURING SYMBOL OF AMERICAN MIGHT, AMERICAN STRENGTH, AMERICAN POWER AND REALLY AMERICAN GOODNESS IN SO MANY WAYS. FROM THE UNITED STATES AIR FORCE, WE'RE JOINED BY THE 455th AIR WING, WHICH IS SUPPORTING OPERATION FREEDOMS, SENTAL AND NATO'S SUPPORT. THANK YOU VERY MUCH, DAVID, AS THE COMMANDER. AND I WANT TO CONGRATULATE YOU ON EVERY MINUTE OF THE 455th FOR YOUR OUTSTANDING WORK, NOT ONLY HAVE YOU DESTROYED HUNDREDS OF ISIS AND ACTUALLY FAR MORE THAN HUNDREDS AND MANY, MANY TALIBAN TARGETS, BUT YOU PROTECT COALITION GROUND FORCES THROUGHOUT THE REGION AND YOU PROTECT THEM LIKE NOBODY ELSE. IT IS INCREDIT THE JOB YOU DO, AND I WANT TO THANK YOU ALL FOR BEING ON, AND I HAVE TO SAY, GENERAL, IT IS GREAT TO SPEAK TO YOU BY TELECONFERENCE AND BY PHONE BECAUSE YOUR REPUTATION IS AN INCREDIBLE ONE. REPRESENTING THE U.S. COAST GUARD, OUR CREW MEMBERS FROM THE SHORE SUPPORT TEAMS THAT ARE PART OF PATROL FORCES, SOUTHWEST ASIA, WHICH IS THE LARGEST COAST GUARD UNIT OUTSIDE OF THE UNITED STATES, AND I'M ACTUALLY GOING RIGHT NOW. I'M IN PALM BEACH, FLORIDA, AND I'M GOING OVER TO YOUR LOCAL COAST GUARD STATION, AND WE'RE GOING TO SPEND SOME GREAT TIME WITH THE MEN AND WOMEN OF THE COAST GUARD. THEY HAVE FROM A LOT OF SAND POINTS, YOU COULD CALL IT BRANDING, YOU COULD CALL IT WHATEVER YOU WANT. THE JOB THEY HAVE DONE ON HURRICANES IN THIS COUNTRY, THEY HAVE SAVED THOUSANDS AND THOUSANDS OF PEOPLE. IN FACT, IN TEXAS, THEY SAVED OVER 12,000 PEOPLE. IF YOU THINK OF WHAT THAT MEANS, OVER 12,000 PEOPLE. THEY WENT INTO SEAS AND THEY WENT INTO AREAS THAT NOBODY ELSE WOULD GO INTO, AND IT WAS INCREDIBLE WHAT THEY HAVE DONE IN TEXAS, WHAT THEY DID IN FLORIDA, WHAT THEY DID IN PUERTO RICO. THE COAST GUARD HAS REALLY BECOME A SYMBOL OF STRENGTH AND PERSEVERANCE AND GENIUS, REALLY. SO HELLO TO LIEUTENANT NICHOLAS HARTMAN, THE COMMANDING OFFICER. AND I ALSO WANT TO CONGRATULATE CHRISTOPHER WILSON ON BEING SELECTED FOR A SCHOOL. THAT'S A. THAT'S THE BEST, RIGHT? YOU TRULY MAKE US PROUD. CONGRATULATIONS. THAT'S A BIG DEAL. GOING TO THAT SCHOOL IS LIKE GOING TO THE WHARTON SCHOOL OF FINANCE IF YOU HAPPEN TO BE DOING WHAT YOU DO. AND EVERYONE IN TODAY'S VIDEO CONFERENCE ALSO, I WANT TO THANK YOU ALL FOR SERVING. TODAY WE THANK GOD FOR THE BLESSINGS OF HAVING YOU PEOPLE BE OUR HEROES AND YOU REALLY ARE OUR HEROES. AND YOUR FAMILIES ARE BACK HERE, AND THEY LOVE YOU AND THEY RESPECT YOU AND THEY LOOK FORWARD TO SEEING YOU BECAUSE YOU ARE THE ONES WHO KEEP AMERICA SAFE AND STRONG AND FREE. YOU DO A JOB LIKE NOBODY ELSE. AND IT IS REALLY GREAT RESPECT THAT WE ALL HAVE. YOU ARE VERY MUCH APPRECIATED LIKE YOU WOULDN'T BELIEVE BY THE AMERICAN PUBLIC, BY THE CITIZENS OF OUR COUNTRY. I WANT TO MAYBE START WITH THE AIR FORCE, AND I KNOW THAT BRIGADIER GENERAL DAVID LIONS IS ON THE PHONE. DAVID, TELL ME A LITTLE BIT ABOUT WHAT YOU'RE DOING. \n",
      "1847 >> OUR MISSION HERE, WE DEFEND THE TWO BUSIEST AIRFIELDS IN AFGHANISTAN. WE SUPPORT OUR TEAMMATES IN OUR MISSION SETS AND THEN WE DELIVER COMBAT AIR POWER ACROSS THE ENTIRE COUNTRY OF AFGHANISTAN. MR. PRESIDENT, I KNOW YOU CAN'T SEE US RIGHT NOW, BUT YOU HAVE GOT 150 AIRMEN IN THIS ROOM THAT WOULD LOVE TO SAY HAPPY THANKSGIVING TO YOU. WHAT DO YOU SAY TO THE PRESIDENT? \n",
      "1874 >> HAPPY THANKSGIVING! \n",
      "1876 >> THAT'S GREAT. THAT'S REALLY FANTASTIC. HOW ARE DOINGS GOING OVER THERE? ARE YOU LOOKING UP? HOW IS IT LOOKING TO YOU? YOU HAVE BEEN THERE A WHILE AND YOU HAVE SEEN WHAT'S GOING ON. YOU KNOW WHAT'S HAPPENING BETTER THAN ANYBODY. HOW DO YOU FIND THINGS GOING? \n",
      "1895 >> THE TALIBAN AND ISIS ARE RESILIENT ADVERSARIES, BUT I THINKWHAT I MEAN BY THAT IS WE WANT THIS ADVERSARY TO REACH OUR SHORES AGAIN. EVERY AIRMAN HERE IS DEDICATED TO KEEPING THIS FIGHT AWAY FROM OUR SHORES. A STABLE AFGHANISTAN IS GOOD FOR AFGHANISTAN, BUT WE DO WHAT WE DO FOR AMERICA. \n",
      "1920 >> YOU SAID IT BETTER THAN ANYBODY COULD HAVE SAID. KEEP THEM AWAY FROM OUR SHORES. THAT'S WHY WE'RE DOING THE STRONG BORDERS. YOU PROBABLY SEE OVER THE NEWS WHAT'S HAPPENING ON OUR SOUTHERN BORDER, AND OUR SOUTHERN BORDER TERRITORY. LARGE NUMBERS OF PEOPLE AND IN MANY CASES WE HAVE NO IDEA WHO THEY ARE. IN MANY CASES THEY'RE NOT GOOD PEOPLE. THEY'RE BAD PEOPLE. BUT LARGE NUMBERS OF PEOPLE ARE FORMING AT OUR BORDER. AND I DON'T HAVE TO EVEN ASK YOU. I KNOW WHAT YOU WANT TO DO. YOU WANT TO MAKE SURE WE KNOW WHO WE'RE LETTING IN AND WE'RE NOT LETTING IN ANYBODY, ESSENTIALLY, BECAUSE WE WANT TO BE CAREFUL. YOU'RE RIGHT. YOU'RE DOING IT OVER THERE. WE'RE DOING IT OVER HERE. AND YOUR PEOPLE AT THE BORDER, WE HAVE THE MILITARY AT THE BORDER FOR THE FIRST TIME. I DON'T KNOW IF IT'S EVER OR CERTAINLY THERE'S NEVER BEEN A PRESENCE LIKE THIS, BUT WE HAVE A VERY POWERFUL BORDER RIGHT NOW. WE HAVE THE FENCING AND THINGS PEOPLE DON'T EVEN BELIEVE. WE TOOK OLD BROKEN WALL AND WE WRAPPED IT WITH BARB WIRE PLUS. I GUESS YOU COULD REALLY CALL IT BARB WIRE PLUS. THIS IS THE ULTIMATE. NOBODY IS GETTING THROUGH THESE WALLS. WE'LL MAKE SURE THEY'RE THE RIGHT PEOPLE BECAUSE THAT'S WHAT YOU AND YOUR FAMILY WANT AND ALL OF YOUR FAMILIES. THAT'S WHAT THEY WANT. THAT'S WHY WE'RE ALL FIGHTING. WE'RE FIGHTING FOR BORDERS. WE'RE FIGHTING FOR OUR COUNTRY. IF WE DON'T HAVE BORDERS, WE DON'T HAVE A COUNTRY. WE'RE DOING VERY WELL ON THE SOUTHERN BORDER. WE GUT A LOT OF BAD DECISIONS FROM THE NINTH CIRCUIT WHICH HAS BECOME A BIG THORN IN OUR SIDE. WE ALWAYS LOSE, AND THEN YOU LOSE AGAIN AND AGAIN, AND YOU HOPEFULLY WIN AT THE SUPREME COURT, WHICH WE HAVE DONE. BUT IT'S A TERRIBLE THING WHEN JUDGES TAKE OVER YOUR PROTECTIVE SERVICES, WHEN THEY TELL YOU HOW TO PROTECT YOUR BORDER. IT'S A DISGRACE. SO WE'RE WINNING. AND YOU'RE WINNING. AND I APPRECIATE VERY MUCH. AND GENERAL, YOUR REPUTATION IS AN INCREDIBLE ONE. THANK YOU VERY MUCH FOR DOING THE JOB AND I'LL SEE YOU BACK WHEN YOU'RE IN THE UNITED STATES OR MAYBE I'LL SEE YOU OVER THERE. YOU NEVER KNOW WHAT'S GOING TO HAPPEN. \n",
      "2043 >> THANK YOU, MR. PRESIDENT. WE APPRECIATE THAT. \n",
      "2045 >> THANK YOU VERY MUCH. AND THANK ALL THE MEN AND WOMEN WITH YOU. REALLY SPECTACULAR PEOPLE. WELL NEXT, LET'S TALK TO THE U.S. COAST GUARD, COMMANDER OFFICER COAST GUARD CUTTER AND IT WOULD BE LIEUTENANT NICK HARTMAN, AND SO NICK, TELL ME A LITTLE BIT ABOUT WHAT YOU'RE DOING, WHERE YOU ARE, AND HOW IS IT GOING? \n",
      "2072 >> GOOD MORNING, MR. PRESIDENT. THIS IS NICOLAS HARTMAN FROM COAST GUARD CUTTER. HERE IN THE ROOM, WE HAVE 14 MEMBERS FROM PATROL FORCES SOUTHWEST ASIA. AND WE'RE LOCATED IN THE KINGDOM OF BAHRAIN, MR. PRESIDENT. OUR MISSION OUT HERE IS TO PATROL THE ARABIAN GULF, STRAITS OF HORMUTH, AND CONDUCT OUR CENTRAL MAND AND OBJECTIVES HERE IN THE GULF. A LOT OF OUR WORK IS PARTNERING IN BUILDING RELATIONSHIPS WITH THE GULF COAST COUNTRIES AND SO THAT WE HAVE A GOOD STANDING AND RESOLVE HERE IN THE ARABIAN GULF. AND CENTRAL COMMAND AOR. THINGS IN MY OPINION, MR. PRESIDENT, ARE GOING VERY WELL FOR US. \n",
      "2119 >> AND WHAT DO YOU SEE IN THE REGION? WHAT'S GOING ON IN THE REGION? HOW ARE THEY FEELING ABOUT THINGS? HOW ARE THEY FEELING ABOUT TRADE? YOU KNOW, TRADE FOR ME IS A VERY BIG SUBJECT. WE HAVE BEEN TAKEN ADVANTAGE OF FOR MANY YEARS BY BAD TRADE DEALS. HOW ARE YOU FINDING THINGS IN THE REGION, NICK? \n",
      "2140 >> MR. PRESIDENT, FROM OUR PERSPECTIVE ON THE WATER, SIR, WE'RE SEEING THERE IS AN ABUNDANCE OF TRADE HAPPENING IN THE REGION. THERE ARE VESSELS MOVING THROUGH THE STRAITS AND ACROSS THE ARABIAN GULF ON A DAILY BASIS, CARRYING CARGO TO AND FRO, AND WE DON'T SEE ANY ISSUES IN TERMS OF TRADE RIGHT NOW, SIR. \n",
      "2159 >> OKAY. WELL, YOU'LL KEEP IT THAT WAY. AND WE WANT GOOD FREE TRADE. WE ALSO WANT FAIR DEALS WHERE WE CAN DO WELL, TOO. NOT EVERYBODY ELSE. RIGHT NOW, NATIONS DO WELL WITH US, WE DON'T DO WELL WITH THEM. THAT'S CHANGING FAST. WHERE YOU ARE IS A BIG FACTOR, AS YOU KNOW. I WANT TO THANK YOU VERY MUCH, NICK, AND GREAT JOB. AND AGAIN, AS I SAID, THERE'S NO BRAND THAT'S GONE UP LIKE THE COAST GUARD OVER THE LAST COUPLE YEARS BECAUSE OF WHAT YOU HAVE DONE WITH THE HURRICANES IN THIS COUNTRY. PEOPLE SAW THINGS THAT THEY HAVE NEVER SEEN BEFORE. THE BRAVERY OF THOSE -- OF YOUR PEOPLE GOING OUT IN WAVES LIKE, YOU KNOW, RECORD SETTING. IT'S BEEN RECORD SETTING. THE ONE HURRICANE IN TEXAS, THEY SAY, DUMPED MORE WATER AND MORE VIOLENT IN TERMS OF WATER THAN ANYTHING WE HAVE EVER HAD IN THE COUNTRY. AND YOU GUYS WENT OUT THERE AND YOU DID IT LIKE JUST A DAY IN THE OFFICE. AND I REALLY APPRECIATE IT. WE ALL REALLY APPRECIATE IT, NICK. AND THANK YOU VERY MUCH. THANK YOU VERY MUCH. \n",
      "2223 >> THANK YOU, MR. PRESIDENT. HAPPY THANKSGIVING. \n",
      "2226 >> THANK YOU. TAKE CARE OF YOURSELF. LET'S GO TO THE ARMY. GOOD OLD ARMY. WE LOVE THE ARMY. WE HAVE COLONEL STEPHANIE BARTON OF THE U.S. ARMY. AND STEPHANIE, TELL US A LITTLE BIT ABOUT YOURSELF AND WHERE YOU ARE AND WHAT YOU'RE FOCUSED ON AND WHAT YOU'RE DOING. \n",
      "2246 >> SIR, FIRST AND FOREMOST, GOOD MORNING. AND HAPPY THANKSGIVING ON BEHALF OF THE 101st SUSTAINMENT BRIGADE. WE'RE CURRENTLY LOCATED IN BAG RB, AFGHANISTAN. WE'RE THE SENIOR LOGISTICS HEADQUARTERS AND THEATER, AND IT'S AN AWAY GAME. I WILL TELL YOU IN ORDER TO FIGHT AND WIN THE NATION'S WARS, IT'S BECAUSE OF SUSTAINMENT AND LOGISTICS. YOU HAVE HIGHLY MOTIVATED TRUE PROFESSIONALS IN THIS ROOM AND OUTSIDE THIS ROOM THAT ARE TRULY MAKING IT HAPPEN. IF IT'S IN THE HANDS OF THE WAR FIGHTER, IT COMES THROUGH US TO THEM. SO WE SUPPORT EVERYTHING FROM COALITION TO JOINT FORCES, FROM BORDER TO BORDER HERE IN THE COUNTRY, SIR. \n",
      "2286 >> GOOD. HOW ARE YOU FINDING THINGS IN AFGHANISTAN RIGHT NOW? \n",
      "2292 >> SIR, IT'S GOOD. WE'RE TRULY MAKING THE MISSION HAPPEN. WHEN IT COMES TO SUSTAINMENT, WE'RE STRATEGIC TACTICAL LOGISTICS. IF IT COMES IN THE THEATER, WE GET IT IN THE WAR FIGHTERS' HANDS. WE HAVE A PHENOMENAL TEAM, AND I CAN'T SPEAK ENOUGH ABOUT THAT. A LOT OF TIMES WE'RE BEHIND THE SCENES, WHICH IS FINE, BUT IT'S A GOOD TEAM EFFORT AND IT TAKES SUPPORT BY ALL TO MAKE IT HAPPEN. \n",
      "2318 >> SO COLONEL, HOW MANY PEOPLE ARE YOU COMMANDING RIGHT NOW, WOULD YOU SAY? \n",
      "2327 >> THERE ARE 10,000. \n",
      "2328 >> WOW. THAT'S A LOT OF PEOPLE. THAT'S FANTASTIC, STEPHANIE. THAT'S BEAUTIFUL. THAT'S BEAUTIFUL. AND NOT ONLY IS IT IMPORTANT WHAT YOU'RE DOING BUT YOU'RE ENJOYING WHAT YOU'RE DOING, IS THAT RIGHT? \n",
      "2341 >> SIR, ABSOLUTELY. WE TRULY LOVE IT. I WILL TELL YOU, OUR FORMATION IS A GREAT MIXTURE. WE HAVE ALL THE ARMY COMBOS FROM THE ACTIVE DUTY, NATIONAL GUARD, WE HAVE ARMY DOD CIVILIANS AND CIVILIAN CONTRACTORS THAT LITERALLY WE ALL COME TOGETHER AND MAKE THE MISSION HAPPEN. SO WE DO HATE THAT WE'RE NOT WITH OUR FAMILY AND FRIENDS TODAY, BUT I TELL YOU WE'RE A CLOSE FAMILY HERE AND I'M TRULY HAPPY TO BE A PART OF IT. IT TAKES THE WHOLE COMMUNITY FROM GREEN SUITORS TO CIVILIANS TO MAKE IT HAPPEN. YOU WOULD BE VERY PROUD BECAUSE WE TRULY ARE. \n",
      "2375 >> THAT'S FANTASTIC. WE'RE PROUD OF YOU. WE'RE PROUD OF YOUR PEOPLE. PLEASE SAY HELLO TO EVERYBODY. HAVE AN INCREDIBLE THANKSGIVING, AND WE'RE TAKING GOOD CARE OF YOU. YOU KNOW, THE BUDGET IS NOW AT $716 BILLION, STEPHANIE, SO WE'RE GETTING RID OF SOME OF THAT OLD EQUIPMENT THEY GAVE YOU. YOU SEE WHAT'S GOING IN, THE BEST IN THE WORLD. SO YOU SEE A BIG DIFFERENCE. AWFULLY BIG DIFFERENCE FROM WHAT WE HAD BEFORE. AND IT'S ONLY GETTING BETTER. WE'LL BE STRONGER THAN EVER BEFORE, AND WITH PEOPLE LIKE YOU, WE FEEL VERY CONFIDENT. SO STEPHANIE, THANK YOU VERY MUCH. HAPPY THANKSGIVING TO ALL. AND I WILL SEE YOU WHEN YOU'RE BACK. \n",
      "2414 >> SIR, SOUNDS GREAT. WE HAVE ONE LAST MESSAGE IF THAT'S OKAY. \n",
      "2419 >> YES. \n",
      "2422 >> THAT'S GREAT. I REALLY APPRECIATE THAT. I REALLY DO. I APPRECIATE IT. TAKE CARE OF YOURSELF. WE'LL SEE YOU ALL SOON. THANK YOU. FROM THE U.S. MARINE CORPS, WE HAVE COLONEL GEORGE SCHLEFFLER. GEORGE, ARE YOU ON? \n",
      "2445 >> THIS IS LIEUTENANT COLONEL SAM HOWIE. THE COLONEL IS DOING A BATTLEFIELD EXERCISE RIGHT NOW. \n",
      "2454 >> GOOD. THAT'S GREAT. THAT'S GREAT, SAM. GOOD. HOW IS IT GOING OVER THERE? \n",
      "2460 >> IT'S GOING GREAT, SIR. RIGHT NOW, SPECIAL PURPOSE, WE'RE BASED IN KUWAIT, BUT WE HAVE MARINES FROM JORDAN TO AFGHANISTAN. AND UP INTO IRAQ AND SYRIA. EVERY DAY, THOSE MARINES ARE INSURING THOSE WHO DO US HARM PAY FOR IT. IT'S AMAZING WATCHING THESE YOUNG MEN AND WOMEN, SAILORS AND MARINES, AND WHAT THEY DO WITH A SMILE ON THEIR FACE EVERY DAY. \n",
      "2484 >> HOW IS THE PROGRESS GOING, WOULD YOU SAY? \n",
      "2488 >> I WOULD SAY THE PROGRESS IS EXCELLENT, SIR. WE HAVE MOVED THROUGHOUT THOSE AREAS AND CLEARED THE VAST MAJORITY OF THOSE ENEMY FORCES FROM BASES. AND RIGHT NOW, I THINK WE'RE IN A GOOD POSITION TO CONTINUE THAT FOR THE REST OF THE YEAR OR FORESEEABLE FUTURE. \n",
      "2504 >> THAT'S GREAT. I'M HEARING VERY GOOD THINGS. THEY TREAT YOU GOOD OVER THERE, I IMAGINE. DO THEY TREAT YOU GOOD? \n",
      "2511 >> SIR, OUTSTANDING. OUR PARTNERS THROUGHOUT, INCLUDING HERE AT THE AIR BASE, THEY TREAT US LIKE GOLD. WE WANT FOR NOTHING, AND TODAY, WE HAD -- I THINK EVERYONE CAN AGREE, A FANTASTIC THANKSGIVING DINNER HERE. \n",
      "2525 >> THAT'S GREAT. THAT'S GREAT. THEY SHOULD. WE'RE GOOD FRIENDS. AND THEY HAVE BEEN A GOOD ALLY. WE TREAT THEM WELL, AND THEY TREAT US WELL. A LOT OF GOOD THINGS ARE HAPPENING OVER THERE. PEOPLE ARE SURPRISED TO SEE HOW FAST THINGS ARE TURNING AROUND. BUT YOU HAVE ONE OF THE GREAT BASES. YOU HAVE SOMETHING THAT'S INCREDIBLE AND SPECIAL. AND WE'LL GET TO SEE YOU VERY SOON. AND I WILL SAY, AND SAY HELLO\n"
     ]
    }
   ],
   "source": [
    "print_sample(CNN_shows, date='2018-11-22')#, program_contains='Wolf Blitzer')"
   ]
  },
  {
   "cell_type": "code",
   "execution_count": 13,
   "metadata": {},
   "outputs": [
    {
     "name": "stdout",
     "output_type": "stream",
     "text": [
      "786 CNN Tonight With Don Lemon\n",
      "630 Anderson Cooper 360\n",
      "473 CNN Newsroom With Brooke Baldwin\n",
      "470 Early Start With Christine Romans and Dave Briggs\n",
      "469 Situation Room With Wolf Blitzer\n",
      "354 CNN Newsroom With Ana Cabrera\n",
      "329 CNN Newsroom With Fredricka Whitfield\n",
      "303 CNN Newsroom Live\n",
      "301 CNN Newsroom With John Berman and Poppy Harlow\n",
      "266 Inside Politics\n",
      "250 At This Hour With Kate Bolduan\n",
      "236 The Lead With Jake Tapper\n",
      "232 Erin Burnett OutFront\n",
      "210 Cuomo Primetime\n",
      "201 Wolf\n",
      "148 CNN Newsroom with Poppy Harlow and Jim Sciutto\n",
      "141 New Day\n",
      "140 New Day Saturday\n",
      "97 New Day Sunday\n",
      "97 State of the Union With Jake Tapper\n",
      "95 Fareed Zakaria GPS\n",
      "74 Cuomo Prime Time\n",
      "68 Smerconish\n",
      "57 CNN Special Report\n",
      "48 Reliable Sources\n",
      "44 CNN Newsroom With Victor Blackwell and Christi Paul\n",
      "32 The Nineties\n",
      "27 The Eighties\n",
      "26 The Van Jones Show\n",
      "23 The Seventies\n",
      "20 CNN Newsroom With Poppy Harlow\n",
      "13 The Sixties\n",
      "12 The Axe Files\n",
      "12 Election Night in America\n",
      "8 CNN Special Program\n",
      "4 Race for the White House\n",
      "3 Sen. Collins on CNN State of the Union\n"
     ]
    }
   ],
   "source": [
    "count_shows(CNN_shows, min_shows=2)"
   ]
  },
  {
   "cell_type": "code",
   "execution_count": null,
   "metadata": {
    "collapsed": true
   },
   "outputs": [],
   "source": []
  }
 ],
 "metadata": {
  "kernelspec": {
   "display_name": "Python 3",
   "language": "python",
   "name": "python3"
  },
  "language_info": {
   "codemirror_mode": {
    "name": "ipython",
    "version": 3
   },
   "file_extension": ".py",
   "mimetype": "text/x-python",
   "name": "python",
   "nbconvert_exporter": "python",
   "pygments_lexer": "ipython3",
   "version": "3.7.3"
  }
 },
 "nbformat": 4,
 "nbformat_minor": 2
}

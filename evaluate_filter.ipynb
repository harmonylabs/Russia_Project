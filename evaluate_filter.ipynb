{
 "cells": [
  {
   "cell_type": "code",
   "execution_count": 9,
   "metadata": {
    "collapsed": true
   },
   "outputs": [],
   "source": [
    "import csv\n",
    "import glob\n",
    "import numpy as np"
   ]
  },
  {
   "cell_type": "code",
   "execution_count": 3,
   "metadata": {
    "collapsed": true
   },
   "outputs": [],
   "source": [
    "data_dir = '/Users/bairdhowland/Russia_Scandal/Transcript_Segments/Full_Cable_Data'"
   ]
  },
  {
   "cell_type": "code",
   "execution_count": 8,
   "metadata": {},
   "outputs": [
    {
     "name": "stdout",
     "output_type": "stream",
     "text": [
      "['Segment ID', 'Snippet ID', 'Day', 'Time (pt)', 'Program', 'Start', 'Stop', 'Duration', 'Text']\n",
      "['Segment ID', 'Snippet ID', 'Day', 'Time (pt)', 'Program', 'Start', 'Stop', 'Duration', 'Text']\n",
      "['Segment ID', 'Snippet ID', 'Day', 'Time (pt)', 'Program', 'Start', 'Stop', 'Duration', 'Text']\n"
     ]
    }
   ],
   "source": [
    "duration_dict = {}\n",
    "for f in glob.glob(data_dir + '/*.csv'):\n",
    "    network = f.split('/')[-1].split('_')[0]\n",
    "    with open(f,'r') as csv_f:\n",
    "        for i,row in enumerate(csv.reader(x.replace('\\0',' ') for x in csv_f)):\n",
    "            if i==0:\n",
    "                print(row)\n",
    "                continue\n",
    "            duration_dict[network + '_' + row[0] + '_' + row[1]] = float(row[7])\n",
    "            "
   ]
  },
  {
   "cell_type": "code",
   "execution_count": 20,
   "metadata": {},
   "outputs": [
    {
     "name": "stdout",
     "output_type": "stream",
     "text": [
      "['Segment', 'Snippet', 'Network', 'text', 'DML_LABEL', 'ABOUT TRUMP-RUSSIA?']\n",
      "['Segment', 'Snippet', 'Network', 'text', 'DML_LABEL', 'ABOUT TRUMP-RUSSIA?']\n"
     ]
    }
   ],
   "source": [
    "positives = set([])\n",
    "yes = set([])\n",
    "negatives = set([])\n",
    "no = set([])\n",
    "for f in glob.glob('/Users/bairdhowland/Russia_Scandal/Transcript_Segments/labeling_data/Machine*'):\n",
    "    with open(f,'r') as csv_f:\n",
    "        for i,row in enumerate(csv.reader(csv_f)):\n",
    "            if i==0:\n",
    "                print(row)\n",
    "                continue\n",
    "            id_ = row[2] + '_' + row[0] + '_' + row[1]\n",
    "            if row[4]=='positive':\n",
    "                positives.add(id_)\n",
    "            elif row[4]=='negative':\n",
    "                negatives.add(id_)\n",
    "            else:\n",
    "                print('error in DML label')\n",
    "            if row[5].replace(' ','')=='yes':\n",
    "                yes.add(id_)\n",
    "            elif row[5]=='no':\n",
    "                no.add(id_)\n",
    "            else:\n",
    "                print(row)\n",
    "                print('error in human label')"
   ]
  },
  {
   "cell_type": "code",
   "execution_count": 23,
   "metadata": {},
   "outputs": [
    {
     "name": "stdout",
     "output_type": "stream",
     "text": [
      "recall = 0.7948717948717948\n",
      "precision = 0.7948717948717948\n"
     ]
    }
   ],
   "source": [
    "recall = len(positives & yes) / len(yes)\n",
    "precision = len(positives & yes) / len(positives)\n",
    "print('recall = {}'.format(recall))\n",
    "print('precision = {}'.format(precision))"
   ]
  },
  {
   "cell_type": "code",
   "execution_count": 28,
   "metadata": {
    "collapsed": true
   },
   "outputs": [],
   "source": [
    "def get_group_duration(s):\n",
    "    return sum([duration_dict[id_] for id_ in s])"
   ]
  },
  {
   "cell_type": "code",
   "execution_count": 30,
   "metadata": {},
   "outputs": [
    {
     "name": "stdout",
     "output_type": "stream",
     "text": [
      "weighted recall: 0.8439767405958936\n",
      "weighted precision: 0.8550426191903657\n"
     ]
    }
   ],
   "source": [
    "weighted_recall = get_group_duration(positives & yes) / get_group_duration(yes)\n",
    "weighted_precision = get_group_duration(positives & yes) / get_group_duration(positives)\n",
    "print('weighted recall: {}'.format(weighted_recall))\n",
    "print('weighted precision: {}'.format(weighted_precision))"
   ]
  },
  {
   "cell_type": "code",
   "execution_count": 33,
   "metadata": {},
   "outputs": [
    {
     "name": "stdout",
     "output_type": "stream",
     "text": [
      "estimated total time = 10.65638888888889 of 23.97111111111111\n",
      "true total time = 10.796111111111111 of 23.97111111111111\n"
     ]
    }
   ],
   "source": [
    "total_time = get_group_duration(yes|no)/60/60\n",
    "print('estimated total time = {} of {}'.format(get_group_duration(positives)/60/60, total_time))\n",
    "print('true total time = {} of {}'.format(get_group_duration(yes)/60/60, total_time))"
   ]
  },
  {
   "cell_type": "code",
   "execution_count": null,
   "metadata": {
    "collapsed": true
   },
   "outputs": [],
   "source": []
  }
 ],
 "metadata": {
  "kernelspec": {
   "display_name": "Python 3",
   "language": "python",
   "name": "python3"
  },
  "language_info": {
   "codemirror_mode": {
    "name": "ipython",
    "version": 3
   },
   "file_extension": ".py",
   "mimetype": "text/x-python",
   "name": "python",
   "nbconvert_exporter": "python",
   "pygments_lexer": "ipython3",
   "version": "3.7.3"
  }
 },
 "nbformat": 4,
 "nbformat_minor": 2
}
